{
 "cells": [
  {
   "cell_type": "markdown",
   "metadata": {
    "colab_type": "text",
    "id": "_J1mdLAGkrDr"
   },
   "source": [
    "# Описание задания\n",
    "\n",
    "**Цель лабораторной работы:** изучение сложных способов подготовки выборки и подбора гиперпараметров на примере метода ближайших соседей.\n",
    "\n"
   ]
  },
  {
   "cell_type": "markdown",
   "metadata": {
    "colab_type": "text",
    "id": "RUx_nmkunIGt"
   },
   "source": [
    "# Задание\n",
    "\n",
    "1.\tВыберите набор данных (датасет) для решения задачи классификации или регресии.\n",
    "2.\tВ случае необходимости проведите удаление или заполнение пропусков и кодирование категориальных признаков.\n",
    "3.\tС использованием метода train_test_split разделите выборку на обучающую и тестовую.\n",
    "4.\tОбучите модель ближайших соседей для произвольно заданного гиперпараметра K. Оцените качество модели с помощью трех подходящих для задачи метрик.\n",
    "5.\tПостройте модель и оцените качество модели с использованием кросс-валидации. Проведите эксперименты с тремя различными стратегиями кросс-валидации.\n",
    "6.\tПроизведите подбор гиперпараметра K с использованием GridSearchCV и кросс-валидации.\n",
    "7.\tПовторите пункт 4 для найденного оптимального значения гиперпараметра K. Сравните качество полученной модели с качеством модели, полученной в пункте 4.\n",
    "8.\tПостройте кривые обучения и валидации.\n",
    "\n",
    "\n",
    "\n",
    "\n"
   ]
  },
  {
   "cell_type": "markdown",
   "metadata": {
    "colab_type": "text",
    "id": "S0bNNLBmixrT"
   },
   "source": [
    "# Ход выполнения лабораторной работы"
   ]
  },
  {
   "cell_type": "markdown",
   "metadata": {
    "colab_type": "text",
    "id": "NwuFbNy1U533"
   },
   "source": [
    "## Выбор датасета"
   ]
  },
  {
   "cell_type": "markdown",
   "metadata": {
    "colab_type": "text",
    "id": "tzTGkYOfVFEC"
   },
   "source": [
    "В качестве исходных данных выбираем датасет о террористических атаках. Он содержит около 180 тысячи записей, а также имеет разные столбцы с категориальными данными. Такой датасет может подходить для обучения методом ближайших соседей.\n",
    "\n",
    "В качестве задачи поставим определение вида атаки по остальным колонкам."
   ]
  },
  {
   "cell_type": "markdown",
   "metadata": {
    "colab_type": "text",
    "id": "hTnRyh29mk-N"
   },
   "source": [
    "## Проверка и удаление пропусков"
   ]
  },
  {
   "cell_type": "code",
   "execution_count": 1,
   "metadata": {
    "colab": {
     "base_uri": "https://localhost:8080/",
     "height": 56
    },
    "colab_type": "code",
    "id": "XdSpUnSrq8p9",
    "outputId": "881d1de0-bf96-40b3-dd68-10e99784f404"
   },
   "outputs": [
    {
     "name": "stdout",
     "output_type": "stream",
     "text": [
      "Drive already mounted at /content/drive; to attempt to forcibly remount, call drive.mount(\"/content/drive\", force_remount=True).\n"
     ]
    }
   ],
   "source": [
    "from google.colab import drive, files\n",
    "drive.mount('/content/drive')"
   ]
  },
  {
   "cell_type": "code",
   "execution_count": 0,
   "metadata": {
    "colab": {},
    "colab_type": "code",
    "id": "dqR3UISf9mXT"
   },
   "outputs": [],
   "source": [
    "from google.colab import files\n",
    "import os\n",
    "import numpy as np\n",
    "import pandas as pd\n",
    "import seaborn as sns\n",
    "import matplotlib.pyplot as plt\n",
    "%matplotlib inline \n",
    "os.listdir()\n",
    "data = pd.read_csv('drive/My Drive/Files/globalterrorismdb_0718dist.csv',\n",
    "                   sep=\",\", encoding=\"iso-8859-1\")"
   ]
  },
  {
   "cell_type": "code",
   "execution_count": 4,
   "metadata": {
    "colab": {
     "base_uri": "https://localhost:8080/",
     "height": 1038
    },
    "colab_type": "code",
    "id": "Q95VCaELXPRo",
    "outputId": "36fd305a-0a66-4c76-9fc4-8209117c6073"
   },
   "outputs": [
    {
     "name": "stdout",
     "output_type": "stream",
     "text": [
      "Колонка latitude. Тип данных float64. Количество пустых значений 4556, 2.51%.\n",
      "Колонка longitude. Тип данных float64. Количество пустых значений 4557, 2.51%.\n",
      "Колонка specificity. Тип данных float64. Количество пустых значений 6, 0.0%.\n",
      "Колонка doubtterr. Тип данных float64. Количество пустых значений 1, 0.0%.\n",
      "Колонка alternative. Тип данных float64. Количество пустых значений 152680, 84.03%.\n",
      "Колонка multiple. Тип данных float64. Количество пустых значений 1, 0.0%.\n",
      "Колонка attacktype2. Тип данных float64. Количество пустых значений 175377, 96.52%.\n",
      "Колонка attacktype3. Тип данных float64. Количество пустых значений 181263, 99.76%.\n",
      "Колонка targsubtype1. Тип данных float64. Количество пустых значений 10373, 5.71%.\n",
      "Колонка natlty1. Тип данных float64. Количество пустых значений 1559, 0.86%.\n",
      "Колонка targtype2. Тип данных float64. Количество пустых значений 170547, 93.87%.\n",
      "Колонка targsubtype2. Тип данных float64. Количество пустых значений 171006, 94.12%.\n",
      "Колонка natlty2. Тип данных float64. Количество пустых значений 170863, 94.04%.\n",
      "Колонка targtype3. Тип данных float64. Количество пустых значений 180515, 99.35%.\n",
      "Колонка targsubtype3. Тип данных float64. Количество пустых значений 180594, 99.4%.\n",
      "Колонка natlty3. Тип данных float64. Количество пустых значений 180544, 99.37%.\n",
      "Колонка guncertain1. Тип данных float64. Количество пустых значений 380, 0.21%.\n",
      "Колонка guncertain2. Тип данных float64. Количество пустых значений 179736, 98.92%.\n",
      "Колонка guncertain3. Тип данных float64. Количество пустых значений 181371, 99.82%.\n",
      "Колонка nperps. Тип данных float64. Количество пустых значений 71115, 39.14%.\n",
      "Колонка nperpcap. Тип данных float64. Количество пустых значений 69489, 38.25%.\n",
      "Колонка claimed. Тип данных float64. Количество пустых значений 66120, 36.39%.\n",
      "Колонка claimmode. Тип данных float64. Количество пустых значений 162608, 89.5%.\n",
      "Колонка claim2. Тип данных float64. Количество пустых значений 179801, 98.96%.\n",
      "Колонка claimmode2. Тип данных float64. Количество пустых значений 181075, 99.66%.\n",
      "Колонка claim3. Тип данных float64. Количество пустых значений 181373, 99.82%.\n",
      "Колонка claimmode3. Тип данных float64. Количество пустых значений 181558, 99.93%.\n",
      "Колонка compclaim. Тип данных float64. Количество пустых значений 176852, 97.34%.\n",
      "Колонка weapsubtype1. Тип данных float64. Количество пустых значений 20768, 11.43%.\n",
      "Колонка weaptype2. Тип данных float64. Количество пустых значений 168564, 92.78%.\n",
      "Колонка weapsubtype2. Тип данных float64. Количество пустых значений 170149, 93.65%.\n",
      "Колонка weaptype3. Тип данных float64. Количество пустых значений 179828, 98.97%.\n",
      "Колонка weapsubtype3. Тип данных float64. Количество пустых значений 179998, 99.07%.\n",
      "Колонка weaptype4. Тип данных float64. Количество пустых значений 181618, 99.96%.\n",
      "Колонка weapsubtype4. Тип данных float64. Количество пустых значений 181621, 99.96%.\n",
      "Колонка nkill. Тип данных float64. Количество пустых значений 10313, 5.68%.\n",
      "Колонка nkillus. Тип данных float64. Количество пустых значений 64446, 35.47%.\n",
      "Колонка nkillter. Тип данных float64. Количество пустых значений 66958, 36.85%.\n",
      "Колонка nwound. Тип данных float64. Количество пустых значений 16311, 8.98%.\n",
      "Колонка nwoundus. Тип данных float64. Количество пустых значений 64702, 35.61%.\n",
      "Колонка nwoundte. Тип данных float64. Количество пустых значений 69143, 38.06%.\n",
      "Колонка propextent. Тип данных float64. Количество пустых значений 117626, 64.74%.\n",
      "Колонка propvalue. Тип данных float64. Количество пустых значений 142702, 78.54%.\n",
      "Колонка ishostkid. Тип данных float64. Количество пустых значений 178, 0.1%.\n",
      "Колонка nhostkid. Тип данных float64. Количество пустых значений 168119, 92.53%.\n",
      "Колонка nhostkidus. Тип данных float64. Количество пустых значений 168174, 92.56%.\n",
      "Колонка nhours. Тип данных float64. Количество пустых значений 177628, 97.76%.\n",
      "Колонка ndays. Тип данных float64. Количество пустых значений 173567, 95.53%.\n",
      "Колонка ransom. Тип данных float64. Количество пустых значений 104310, 57.41%.\n",
      "Колонка ransomamt. Тип данных float64. Количество пустых значений 180341, 99.26%.\n",
      "Колонка ransomamtus. Тип данных float64. Количество пустых значений 181128, 99.69%.\n",
      "Колонка ransompaid. Тип данных float64. Количество пустых значений 180917, 99.57%.\n",
      "Колонка ransompaidus. Тип данных float64. Количество пустых значений 181139, 99.7%.\n",
      "Колонка hostkidoutcome. Тип данных float64. Количество пустых значений 170700, 93.95%.\n",
      "Колонка nreleased. Тип данных float64. Количество пустых значений 171291, 94.28%.\n"
     ]
    }
   ],
   "source": [
    "total_count = data.shape[0]\n",
    "num_cols = []\n",
    "for col in data.columns:\n",
    "    # Количество пустых значений \n",
    "    temp_null_count = data[data[col].isnull()].shape[0]\n",
    "    dt = str(data[col].dtype)\n",
    "    if temp_null_count>0 and (dt=='float64' or dt=='int64'):\n",
    "        num_cols.append(col)\n",
    "        temp_perc = round((temp_null_count / total_count) * 100.0, 2)\n",
    "        print('Колонка {}. Тип данных {}. Количество пустых значений {}, {}%.'\n",
    "              .format(col, dt, temp_null_count, temp_perc))"
   ]
  },
  {
   "cell_type": "markdown",
   "metadata": {
    "colab_type": "text",
    "id": "U5OSTknYbDWh"
   },
   "source": [
    "Количество пустых колонок огромно, поэтому сначала удалим все столбцы, у которых количество заполненных значений менее 150000 (примерно 5/6 от всего датасета), а затем удалим строки с пустым значением."
   ]
  },
  {
   "cell_type": "code",
   "execution_count": 5,
   "metadata": {
    "colab": {
     "base_uri": "https://localhost:8080/",
     "height": 36
    },
    "colab_type": "code",
    "id": "FrgPzizwbMli",
    "outputId": "89168d37-365f-49da-ded2-7ba23f631807"
   },
   "outputs": [
    {
     "data": {
      "text/plain": [
       "((181691, 135), (181691, 47))"
      ]
     },
     "execution_count": 5,
     "metadata": {
      "tags": []
     },
     "output_type": "execute_result"
    }
   ],
   "source": [
    "# Удаление колонок, содержащих пустые значения\n",
    "data_temp_1 = data.dropna(axis=1, how='any', thresh=150000)\n",
    "(data.shape, data_temp_1.shape)"
   ]
  },
  {
   "cell_type": "code",
   "execution_count": 6,
   "metadata": {
    "colab": {
     "base_uri": "https://localhost:8080/",
     "height": 36
    },
    "colab_type": "code",
    "id": "O8n_V4jQZqpH",
    "outputId": "cd3f3bdf-aa96-4e35-a6b7-e586a9cdc805"
   },
   "outputs": [
    {
     "data": {
      "text/plain": [
       "((181691, 47), (134042, 47))"
      ]
     },
     "execution_count": 6,
     "metadata": {
      "tags": []
     },
     "output_type": "execute_result"
    }
   ],
   "source": [
    "data_new_1 = data_temp_1.dropna(axis=0, how='any')\n",
    "(data_temp_1.shape, data_new_1.shape)"
   ]
  },
  {
   "cell_type": "code",
   "execution_count": 7,
   "metadata": {
    "colab": {
     "base_uri": "https://localhost:8080/",
     "height": 342
    },
    "colab_type": "code",
    "id": "QTDfSrxBYJ9I",
    "outputId": "7a50c6cc-e21c-4234-a23f-e9675517a706"
   },
   "outputs": [
    {
     "data": {
      "text/html": [
       "<div>\n",
       "<style scoped>\n",
       "    .dataframe tbody tr th:only-of-type {\n",
       "        vertical-align: middle;\n",
       "    }\n",
       "\n",
       "    .dataframe tbody tr th {\n",
       "        vertical-align: top;\n",
       "    }\n",
       "\n",
       "    .dataframe thead th {\n",
       "        text-align: right;\n",
       "    }\n",
       "</style>\n",
       "<table border=\"1\" class=\"dataframe\">\n",
       "  <thead>\n",
       "    <tr style=\"text-align: right;\">\n",
       "      <th></th>\n",
       "      <th>eventid</th>\n",
       "      <th>iyear</th>\n",
       "      <th>imonth</th>\n",
       "      <th>iday</th>\n",
       "      <th>extended</th>\n",
       "      <th>country</th>\n",
       "      <th>country_txt</th>\n",
       "      <th>region</th>\n",
       "      <th>region_txt</th>\n",
       "      <th>provstate</th>\n",
       "      <th>...</th>\n",
       "      <th>weapsubtype1_txt</th>\n",
       "      <th>nkill</th>\n",
       "      <th>nwound</th>\n",
       "      <th>property</th>\n",
       "      <th>ishostkid</th>\n",
       "      <th>dbsource</th>\n",
       "      <th>INT_LOG</th>\n",
       "      <th>INT_IDEO</th>\n",
       "      <th>INT_MISC</th>\n",
       "      <th>INT_ANY</th>\n",
       "    </tr>\n",
       "  </thead>\n",
       "  <tbody>\n",
       "    <tr>\n",
       "      <th>5</th>\n",
       "      <td>197001010002</td>\n",
       "      <td>1970</td>\n",
       "      <td>1</td>\n",
       "      <td>1</td>\n",
       "      <td>0</td>\n",
       "      <td>217</td>\n",
       "      <td>United States</td>\n",
       "      <td>1</td>\n",
       "      <td>North America</td>\n",
       "      <td>Illinois</td>\n",
       "      <td>...</td>\n",
       "      <td>Unknown Gun Type</td>\n",
       "      <td>0.0</td>\n",
       "      <td>0.0</td>\n",
       "      <td>1</td>\n",
       "      <td>0.0</td>\n",
       "      <td>Hewitt Project</td>\n",
       "      <td>-9</td>\n",
       "      <td>-9</td>\n",
       "      <td>0</td>\n",
       "      <td>-9</td>\n",
       "    </tr>\n",
       "    <tr>\n",
       "      <th>6</th>\n",
       "      <td>197001020001</td>\n",
       "      <td>1970</td>\n",
       "      <td>1</td>\n",
       "      <td>2</td>\n",
       "      <td>0</td>\n",
       "      <td>218</td>\n",
       "      <td>Uruguay</td>\n",
       "      <td>3</td>\n",
       "      <td>South America</td>\n",
       "      <td>Montevideo</td>\n",
       "      <td>...</td>\n",
       "      <td>Automatic or Semi-Automatic Rifle</td>\n",
       "      <td>0.0</td>\n",
       "      <td>0.0</td>\n",
       "      <td>0</td>\n",
       "      <td>0.0</td>\n",
       "      <td>PGIS</td>\n",
       "      <td>0</td>\n",
       "      <td>0</td>\n",
       "      <td>0</td>\n",
       "      <td>0</td>\n",
       "    </tr>\n",
       "    <tr>\n",
       "      <th>7</th>\n",
       "      <td>197001020002</td>\n",
       "      <td>1970</td>\n",
       "      <td>1</td>\n",
       "      <td>2</td>\n",
       "      <td>0</td>\n",
       "      <td>217</td>\n",
       "      <td>United States</td>\n",
       "      <td>1</td>\n",
       "      <td>North America</td>\n",
       "      <td>California</td>\n",
       "      <td>...</td>\n",
       "      <td>Unknown Explosive Type</td>\n",
       "      <td>0.0</td>\n",
       "      <td>0.0</td>\n",
       "      <td>1</td>\n",
       "      <td>0.0</td>\n",
       "      <td>Hewitt Project</td>\n",
       "      <td>-9</td>\n",
       "      <td>-9</td>\n",
       "      <td>0</td>\n",
       "      <td>-9</td>\n",
       "    </tr>\n",
       "    <tr>\n",
       "      <th>8</th>\n",
       "      <td>197001020003</td>\n",
       "      <td>1970</td>\n",
       "      <td>1</td>\n",
       "      <td>2</td>\n",
       "      <td>0</td>\n",
       "      <td>217</td>\n",
       "      <td>United States</td>\n",
       "      <td>1</td>\n",
       "      <td>North America</td>\n",
       "      <td>Wisconsin</td>\n",
       "      <td>...</td>\n",
       "      <td>Molotov Cocktail/Petrol Bomb</td>\n",
       "      <td>0.0</td>\n",
       "      <td>0.0</td>\n",
       "      <td>1</td>\n",
       "      <td>0.0</td>\n",
       "      <td>Hewitt Project</td>\n",
       "      <td>0</td>\n",
       "      <td>0</td>\n",
       "      <td>0</td>\n",
       "      <td>0</td>\n",
       "    </tr>\n",
       "    <tr>\n",
       "      <th>9</th>\n",
       "      <td>197001030001</td>\n",
       "      <td>1970</td>\n",
       "      <td>1</td>\n",
       "      <td>3</td>\n",
       "      <td>0</td>\n",
       "      <td>217</td>\n",
       "      <td>United States</td>\n",
       "      <td>1</td>\n",
       "      <td>North America</td>\n",
       "      <td>Wisconsin</td>\n",
       "      <td>...</td>\n",
       "      <td>Gasoline or Alcohol</td>\n",
       "      <td>0.0</td>\n",
       "      <td>0.0</td>\n",
       "      <td>1</td>\n",
       "      <td>0.0</td>\n",
       "      <td>Hewitt Project</td>\n",
       "      <td>0</td>\n",
       "      <td>0</td>\n",
       "      <td>0</td>\n",
       "      <td>0</td>\n",
       "    </tr>\n",
       "  </tbody>\n",
       "</table>\n",
       "<p>5 rows × 47 columns</p>\n",
       "</div>"
      ],
      "text/plain": [
       "        eventid  iyear  imonth  iday  extended  country    country_txt  \\\n",
       "5  197001010002   1970       1     1         0      217  United States   \n",
       "6  197001020001   1970       1     2         0      218        Uruguay   \n",
       "7  197001020002   1970       1     2         0      217  United States   \n",
       "8  197001020003   1970       1     2         0      217  United States   \n",
       "9  197001030001   1970       1     3         0      217  United States   \n",
       "\n",
       "   region     region_txt   provstate   ...     \\\n",
       "5       1  North America    Illinois   ...      \n",
       "6       3  South America  Montevideo   ...      \n",
       "7       1  North America  California   ...      \n",
       "8       1  North America   Wisconsin   ...      \n",
       "9       1  North America   Wisconsin   ...      \n",
       "\n",
       "                    weapsubtype1_txt  nkill  nwound  property  ishostkid  \\\n",
       "5                   Unknown Gun Type    0.0     0.0         1        0.0   \n",
       "6  Automatic or Semi-Automatic Rifle    0.0     0.0         0        0.0   \n",
       "7             Unknown Explosive Type    0.0     0.0         1        0.0   \n",
       "8       Molotov Cocktail/Petrol Bomb    0.0     0.0         1        0.0   \n",
       "9                Gasoline or Alcohol    0.0     0.0         1        0.0   \n",
       "\n",
       "         dbsource  INT_LOG  INT_IDEO  INT_MISC  INT_ANY  \n",
       "5  Hewitt Project       -9        -9         0       -9  \n",
       "6            PGIS        0         0         0        0  \n",
       "7  Hewitt Project       -9        -9         0       -9  \n",
       "8  Hewitt Project        0         0         0        0  \n",
       "9  Hewitt Project        0         0         0        0  \n",
       "\n",
       "[5 rows x 47 columns]"
      ]
     },
     "execution_count": 7,
     "metadata": {
      "tags": []
     },
     "output_type": "execute_result"
    }
   ],
   "source": [
    "data_new_1.head()"
   ]
  },
  {
   "cell_type": "code",
   "execution_count": 8,
   "metadata": {
    "colab": {
     "base_uri": "https://localhost:8080/",
     "height": 36
    },
    "colab_type": "code",
    "id": "eMP9IQ2HbgSP",
    "outputId": "bb2f6aa2-6832-4c3f-c978-0fe042319d8d"
   },
   "outputs": [
    {
     "data": {
      "text/plain": [
       "(134042, 34)"
      ]
     },
     "execution_count": 8,
     "metadata": {
      "tags": []
     },
     "output_type": "execute_result"
    }
   ],
   "source": [
    "data2 = data_new_1.drop([\"provstate\", \"eventid\", \"latitude\", \"longitude\",\n",
    "                 \"dbsource\", \"INT_LOG\", \"INT_IDEO\", \"INT_MISC\",\n",
    "                 \"INT_ANY\", \"individual\", \"weapsubtype1\",\n",
    "                 \"weapsubtype1_txt\", \"property\"], axis=1)\n",
    "data2.shape"
   ]
  },
  {
   "cell_type": "markdown",
   "metadata": {
    "colab_type": "text",
    "id": "zW-RGAmPbB9S"
   },
   "source": [
    "## train_test_split\n",
    "\n"
   ]
  },
  {
   "cell_type": "code",
   "execution_count": 0,
   "metadata": {
    "colab": {},
    "colab_type": "code",
    "id": "7QA_avK2bf8o"
   },
   "outputs": [],
   "source": [
    "from sklearn.model_selection import train_test_split\n",
    "attacktype = data2[\"attacktype1\"]\n",
    "data3 = data2.drop([\"attacktype1\",\n",
    "                    \"vicinity\", \"crit2\",\n",
    "                    \"crit3\", \"natlty1\", \n",
    "                    \"iday\", \"imonth\", \"iyear\",\n",
    "                    \"extended\"], axis=1)\n",
    "for col in data3.columns:\n",
    "  dt = str(data[col].dtype)\n",
    "  if not (dt=='float64' or dt=='int64'):\n",
    "    data3 = data3.drop([col], axis=1)\n",
    "data_X_train, data_X_test, data_y_train, data_y_test = train_test_split(\n",
    "    data3, attacktype, test_size=0.2, random_state=1)"
   ]
  },
  {
   "cell_type": "code",
   "execution_count": 10,
   "metadata": {
    "colab": {
     "base_uri": "https://localhost:8080/",
     "height": 226
    },
    "colab_type": "code",
    "id": "y6odOsUGhhvK",
    "outputId": "cbff9c71-e467-4fe6-eb81-4d9f117e6ca2"
   },
   "outputs": [
    {
     "data": {
      "text/html": [
       "<div>\n",
       "<style scoped>\n",
       "    .dataframe tbody tr th:only-of-type {\n",
       "        vertical-align: middle;\n",
       "    }\n",
       "\n",
       "    .dataframe tbody tr th {\n",
       "        vertical-align: top;\n",
       "    }\n",
       "\n",
       "    .dataframe thead th {\n",
       "        text-align: right;\n",
       "    }\n",
       "</style>\n",
       "<table border=\"1\" class=\"dataframe\">\n",
       "  <thead>\n",
       "    <tr style=\"text-align: right;\">\n",
       "      <th></th>\n",
       "      <th>country</th>\n",
       "      <th>region</th>\n",
       "      <th>specificity</th>\n",
       "      <th>crit1</th>\n",
       "      <th>doubtterr</th>\n",
       "      <th>multiple</th>\n",
       "      <th>success</th>\n",
       "      <th>suicide</th>\n",
       "      <th>targtype1</th>\n",
       "      <th>targsubtype1</th>\n",
       "      <th>guncertain1</th>\n",
       "      <th>weaptype1</th>\n",
       "      <th>nkill</th>\n",
       "      <th>nwound</th>\n",
       "      <th>ishostkid</th>\n",
       "    </tr>\n",
       "  </thead>\n",
       "  <tbody>\n",
       "    <tr>\n",
       "      <th>5</th>\n",
       "      <td>217</td>\n",
       "      <td>1</td>\n",
       "      <td>1.0</td>\n",
       "      <td>1</td>\n",
       "      <td>0.0</td>\n",
       "      <td>0.0</td>\n",
       "      <td>1</td>\n",
       "      <td>0</td>\n",
       "      <td>3</td>\n",
       "      <td>22.0</td>\n",
       "      <td>0.0</td>\n",
       "      <td>5</td>\n",
       "      <td>0.0</td>\n",
       "      <td>0.0</td>\n",
       "      <td>0.0</td>\n",
       "    </tr>\n",
       "    <tr>\n",
       "      <th>6</th>\n",
       "      <td>218</td>\n",
       "      <td>3</td>\n",
       "      <td>1.0</td>\n",
       "      <td>1</td>\n",
       "      <td>0.0</td>\n",
       "      <td>0.0</td>\n",
       "      <td>0</td>\n",
       "      <td>0</td>\n",
       "      <td>3</td>\n",
       "      <td>25.0</td>\n",
       "      <td>0.0</td>\n",
       "      <td>5</td>\n",
       "      <td>0.0</td>\n",
       "      <td>0.0</td>\n",
       "      <td>0.0</td>\n",
       "    </tr>\n",
       "    <tr>\n",
       "      <th>7</th>\n",
       "      <td>217</td>\n",
       "      <td>1</td>\n",
       "      <td>1.0</td>\n",
       "      <td>1</td>\n",
       "      <td>1.0</td>\n",
       "      <td>0.0</td>\n",
       "      <td>1</td>\n",
       "      <td>0</td>\n",
       "      <td>21</td>\n",
       "      <td>107.0</td>\n",
       "      <td>0.0</td>\n",
       "      <td>6</td>\n",
       "      <td>0.0</td>\n",
       "      <td>0.0</td>\n",
       "      <td>0.0</td>\n",
       "    </tr>\n",
       "    <tr>\n",
       "      <th>8</th>\n",
       "      <td>217</td>\n",
       "      <td>1</td>\n",
       "      <td>1.0</td>\n",
       "      <td>1</td>\n",
       "      <td>0.0</td>\n",
       "      <td>0.0</td>\n",
       "      <td>1</td>\n",
       "      <td>0</td>\n",
       "      <td>4</td>\n",
       "      <td>28.0</td>\n",
       "      <td>0.0</td>\n",
       "      <td>8</td>\n",
       "      <td>0.0</td>\n",
       "      <td>0.0</td>\n",
       "      <td>0.0</td>\n",
       "    </tr>\n",
       "    <tr>\n",
       "      <th>9</th>\n",
       "      <td>217</td>\n",
       "      <td>1</td>\n",
       "      <td>1.0</td>\n",
       "      <td>1</td>\n",
       "      <td>0.0</td>\n",
       "      <td>0.0</td>\n",
       "      <td>1</td>\n",
       "      <td>0</td>\n",
       "      <td>2</td>\n",
       "      <td>21.0</td>\n",
       "      <td>0.0</td>\n",
       "      <td>8</td>\n",
       "      <td>0.0</td>\n",
       "      <td>0.0</td>\n",
       "      <td>0.0</td>\n",
       "    </tr>\n",
       "  </tbody>\n",
       "</table>\n",
       "</div>"
      ],
      "text/plain": [
       "   country  region  specificity  crit1  doubtterr  multiple  success  suicide  \\\n",
       "5      217       1          1.0      1        0.0       0.0        1        0   \n",
       "6      218       3          1.0      1        0.0       0.0        0        0   \n",
       "7      217       1          1.0      1        1.0       0.0        1        0   \n",
       "8      217       1          1.0      1        0.0       0.0        1        0   \n",
       "9      217       1          1.0      1        0.0       0.0        1        0   \n",
       "\n",
       "   targtype1  targsubtype1  guncertain1  weaptype1  nkill  nwound  ishostkid  \n",
       "5          3          22.0          0.0          5    0.0     0.0        0.0  \n",
       "6          3          25.0          0.0          5    0.0     0.0        0.0  \n",
       "7         21         107.0          0.0          6    0.0     0.0        0.0  \n",
       "8          4          28.0          0.0          8    0.0     0.0        0.0  \n",
       "9          2          21.0          0.0          8    0.0     0.0        0.0  "
      ]
     },
     "execution_count": 10,
     "metadata": {
      "tags": []
     },
     "output_type": "execute_result"
    }
   ],
   "source": [
    "data3.head()"
   ]
  },
  {
   "cell_type": "markdown",
   "metadata": {
    "colab_type": "text",
    "id": "pNsi438lGsxT"
   },
   "source": [
    "## Обучение для произвольного параметра K"
   ]
  },
  {
   "cell_type": "code",
   "execution_count": 11,
   "metadata": {
    "colab": {
     "base_uri": "https://localhost:8080/",
     "height": 36
    },
    "colab_type": "code",
    "id": "U28NDL6Yc14D",
    "outputId": "4592a633-2484-4e2c-d906-025dfcbfe2a3"
   },
   "outputs": [
    {
     "data": {
      "text/plain": [
       "(0.7833689256105862, 0.7622813234361595)"
      ]
     },
     "execution_count": 11,
     "metadata": {
      "tags": []
     },
     "output_type": "execute_result"
    }
   ],
   "source": [
    "from sklearn.neighbors import KNeighborsRegressor, KNeighborsClassifier\n",
    "from sklearn.metrics import accuracy_score\n",
    "\n",
    "cl1_1 = KNeighborsClassifier(n_neighbors=20)\n",
    "cl1_1.fit(data_X_train, data_y_train)\n",
    "target1_0 = cl1_1.predict(data_X_train)\n",
    "target1_1 = cl1_1.predict(data_X_test)\n",
    "accuracy_score(data_y_train, target1_0), accuracy_score(data_y_test, target1_1)"
   ]
  },
  {
   "cell_type": "code",
   "execution_count": 12,
   "metadata": {
    "colab": {
     "base_uri": "https://localhost:8080/",
     "height": 36
    },
    "colab_type": "code",
    "id": "AJ__8pwsFG9s",
    "outputId": "94f26cb2-02d5-451c-dd26-b36abd185457"
   },
   "outputs": [
    {
     "data": {
      "text/plain": [
       "(0.39558911898277416, 0.3628183402576897)"
      ]
     },
     "execution_count": 12,
     "metadata": {
      "tags": []
     },
     "output_type": "execute_result"
    }
   ],
   "source": [
    "from sklearn.metrics import balanced_accuracy_score\n",
    "balanced_accuracy_score(data_y_train, target1_0), balanced_accuracy_score(data_y_test, target1_1)"
   ]
  },
  {
   "cell_type": "code",
   "execution_count": 13,
   "metadata": {
    "colab": {
     "base_uri": "https://localhost:8080/",
     "height": 184
    },
    "colab_type": "code",
    "id": "5KZr_Dp1F4XE",
    "outputId": "26a1625f-9965-484b-ecfa-6546207345d7"
   },
   "outputs": [
    {
     "data": {
      "text/plain": [
       "array([[ 6992,  2378,  2708,     0,    11,    33,    76,     4,     0],\n",
       "       [ 1970, 18830,  6246,     3,    31,   103,   270,    10,     0],\n",
       "       [ 1009,  2761, 54380,     1,    16,    21,   111,     0,     0],\n",
       "       [   11,    77,   142,    20,     0,    13,    13,     0,     0],\n",
       "       [   28,   112,   222,     0,   131,    18,    16,     0,     0],\n",
       "       [  379,  1059,   900,     3,    16,  1000,    77,     3,     0],\n",
       "       [   96,   328,  1562,     4,     4,    11,  2561,     4,     0],\n",
       "       [   23,    81,   187,     2,     0,    13,    58,    89,     0],\n",
       "       [    1,     3,     1,     0,     0,     0,     1,     0,     0]])"
      ]
     },
     "execution_count": 13,
     "metadata": {
      "tags": []
     },
     "output_type": "execute_result"
    }
   ],
   "source": [
    "from sklearn.metrics import confusion_matrix\n",
    "confusion_matrix(data_y_train, target1_0)"
   ]
  },
  {
   "cell_type": "code",
   "execution_count": 14,
   "metadata": {
    "colab": {
     "base_uri": "https://localhost:8080/",
     "height": 184
    },
    "colab_type": "code",
    "id": "7xoi_7LLGXJf",
    "outputId": "f84a7b60-8100-457a-d326-0d41c840d977"
   },
   "outputs": [
    {
     "data": {
      "text/plain": [
       "array([[ 1648,   649,   724,     0,     1,    22,    18,     0,     0],\n",
       "       [  565,  4460,  1648,     0,    10,    33,    75,     6,     0],\n",
       "       [  295,   783, 13452,     0,     6,    11,    40,     0,     0],\n",
       "       [    2,    15,    39,     0,     0,     7,     4,     0,     0],\n",
       "       [    5,    16,    70,     0,    41,     4,     7,     0,     0],\n",
       "       [  104,   310,   243,     2,     3,   186,    29,     2,     0],\n",
       "       [   29,    87,   402,     0,     3,     6,   638,     2,     0],\n",
       "       [    5,    28,    42,     0,     0,     6,    14,    11,     0],\n",
       "       [    0,     0,     1,     0,     0,     0,     0,     0,     0]])"
      ]
     },
     "execution_count": 14,
     "metadata": {
      "tags": []
     },
     "output_type": "execute_result"
    }
   ],
   "source": [
    "confusion_matrix(data_y_test, target1_1)"
   ]
  },
  {
   "cell_type": "markdown",
   "metadata": {
    "colab_type": "text",
    "id": "WLuFiC0iGgEj"
   },
   "source": [
    "Видно, что метод ближайших соседей с гиперпараметром 20 подходит для определения выходного значения, однако нет уверенности в том, что это будет являться лучшим гиперпараметром."
   ]
  },
  {
   "cell_type": "markdown",
   "metadata": {
    "colab_type": "text",
    "id": "SI7z_VilHjHo"
   },
   "source": [
    "## Построение модели и оценка с помощью кросс-валидации"
   ]
  },
  {
   "cell_type": "code",
   "execution_count": 0,
   "metadata": {
    "colab": {},
    "colab_type": "code",
    "id": "3UwWe81vHmue"
   },
   "outputs": [],
   "source": [
    "from sklearn.model_selection import KFold, RepeatedKFold, LeaveOneOut, LeavePOut, ShuffleSplit, StratifiedKFold\n",
    "from sklearn.model_selection import cross_val_score, cross_validate\n",
    "\n",
    "scoring = {'precision': 'precision_weighted', \n",
    "           'recall': 'recall_weighted',\n",
    "           'f1': 'f1_weighted'}\n",
    "\n",
    "scores1 = cross_validate(KNeighborsClassifier(n_neighbors=2), \n",
    "                        data3, attacktype, scoring=scoring, \n",
    "                        cv=KFold(n_splits=3), return_train_score=True)\n",
    "scores1"
   ]
  },
  {
   "cell_type": "code",
   "execution_count": 0,
   "metadata": {
    "colab": {},
    "colab_type": "code",
    "id": "mFAfP7xKRyHJ"
   },
   "outputs": [],
   "source": [
    "scores2 = cross_validate(KNeighborsClassifier(n_neighbors=2), \n",
    "                        data3, attacktype, scoring=scoring, \n",
    "                        cv=StratifiedKFold(n_splits=3), return_train_score=True)\n",
    "scores2"
   ]
  },
  {
   "cell_type": "code",
   "execution_count": 0,
   "metadata": {
    "colab": {},
    "colab_type": "code",
    "id": "rk6Rh5lPR5Eb"
   },
   "outputs": [],
   "source": [
    "scores3 = cross_validate(KNeighborsClassifier(n_neighbors=2), \n",
    "                        data3, attacktype, scoring=scoring, \n",
    "                        cv=ShuffleSplit(n_splits=3, test_size=0.25), return_train_score=True)\n",
    "scores3"
   ]
  },
  {
   "cell_type": "code",
   "execution_count": 18,
   "metadata": {
    "colab": {
     "base_uri": "https://localhost:8080/",
     "height": 36
    },
    "colab_type": "code",
    "id": "9NtIYi2PJ3EI",
    "outputId": "3964bbb1-06ab-43ae-f5f2-047e283d5ab3"
   },
   "outputs": [
    {
     "name": "stdout",
     "output_type": "stream",
     "text": [
      "0.6938141352174684, 0.688623355258902, 0.7903253108335272\n"
     ]
    }
   ],
   "source": [
    "print(\"%s, %s, %s\" % (np.mean(scores1[\"test_precision\"]),\n",
    "                      np.mean(scores2[\"test_precision\"]), \n",
    "                      np.mean(scores3[\"test_precision\"])))"
   ]
  },
  {
   "cell_type": "markdown",
   "metadata": {
    "colab_type": "text",
    "id": "BxuuNxzaJxdI"
   },
   "source": [
    "## Подбор гиперпараметра K с использованием GridSearchCV и кросс-валидации"
   ]
  },
  {
   "cell_type": "code",
   "execution_count": 19,
   "metadata": {
    "colab": {
     "base_uri": "https://localhost:8080/",
     "height": 36
    },
    "colab_type": "code",
    "id": "UIkLa0qDa3YV",
    "outputId": "7e9bbbaf-238c-44ab-de24-aa4050d8abb8"
   },
   "outputs": [
    {
     "data": {
      "text/plain": [
       "[{'n_neighbors': array([ 2,  6, 10, 14, 18, 22, 26, 30])}]"
      ]
     },
     "execution_count": 19,
     "metadata": {
      "tags": []
     },
     "output_type": "execute_result"
    }
   ],
   "source": [
    "n_range = np.array(range(2,33,4))\n",
    "tuned_parameters = [{'n_neighbors': n_range}]\n",
    "tuned_parameters"
   ]
  },
  {
   "cell_type": "code",
   "execution_count": 20,
   "metadata": {
    "colab": {
     "base_uri": "https://localhost:8080/",
     "height": 166
    },
    "colab_type": "code",
    "id": "tXs4b-6dbGFF",
    "outputId": "9459bf3a-1713-4e23-b544-c014f2e8a4e9"
   },
   "outputs": [
    {
     "data": {
      "text/plain": [
       "GridSearchCV(cv=5, error_score='raise-deprecating',\n",
       "       estimator=KNeighborsClassifier(algorithm='auto', leaf_size=30, metric='minkowski',\n",
       "           metric_params=None, n_jobs=None, n_neighbors=5, p=2,\n",
       "           weights='uniform'),\n",
       "       fit_params=None, iid='warn', n_jobs=None,\n",
       "       param_grid=[{'n_neighbors': array([ 2,  6, 10, 14, 18, 22, 26, 30])}],\n",
       "       pre_dispatch='2*n_jobs', refit=True, return_train_score='warn',\n",
       "       scoring='accuracy', verbose=0)"
      ]
     },
     "execution_count": 20,
     "metadata": {
      "tags": []
     },
     "output_type": "execute_result"
    }
   ],
   "source": [
    "from sklearn.model_selection import GridSearchCV, RandomizedSearchCV\n",
    "\n",
    "clf_gs = GridSearchCV(KNeighborsClassifier(), tuned_parameters, cv=5,\n",
    "                      scoring='accuracy')\n",
    "clf_gs.fit(data_X_train, data_y_train)"
   ]
  },
  {
   "cell_type": "code",
   "execution_count": 21,
   "metadata": {
    "colab": {
     "base_uri": "https://localhost:8080/",
     "height": 36
    },
    "colab_type": "code",
    "id": "bnEK7Ub2hll4",
    "outputId": "04b74abb-03ed-4f09-b291-d4eced2cbfa3"
   },
   "outputs": [
    {
     "data": {
      "text/plain": [
       "{'n_neighbors': 6}"
      ]
     },
     "execution_count": 21,
     "metadata": {
      "tags": []
     },
     "output_type": "execute_result"
    }
   ],
   "source": [
    "clf_gs.best_params_"
   ]
  },
  {
   "cell_type": "markdown",
   "metadata": {
    "colab_type": "text",
    "id": "dcLKhnRwwqX-"
   },
   "source": [
    "Лучшее распознавание получается при гиперпараметре K = 6"
   ]
  },
  {
   "cell_type": "code",
   "execution_count": 22,
   "metadata": {
    "colab": {
     "base_uri": "https://localhost:8080/",
     "height": 293
    },
    "colab_type": "code",
    "id": "sEECbkXLhwfo",
    "outputId": "6a3d1fea-67d0-4cf4-a4a8-0f36b4c3105f"
   },
   "outputs": [
    {
     "data": {
      "text/plain": [
       "[<matplotlib.lines.Line2D at 0x7f6beb5dd278>]"
      ]
     },
     "execution_count": 22,
     "metadata": {
      "tags": []
     },
     "output_type": "execute_result"
    },
    {
     "data": {
      "image/png": "[encoded data removed]",
      "text/plain": [
       "<Figure size 432x288 with 1 Axes>"
      ]
     },
     "metadata": {
      "tags": []
     },
     "output_type": "display_data"
    }
   ],
   "source": [
    "plt.plot(n_range, clf_gs.cv_results_['mean_test_score'])"
   ]
  },
  {
   "cell_type": "markdown",
   "metadata": {
    "colab_type": "text",
    "id": "xkrsDVRfwyLe"
   },
   "source": [
    "## Сравнение модели с произвольным и лучшим параметром K"
   ]
  },
  {
   "cell_type": "code",
   "execution_count": 0,
   "metadata": {
    "colab": {},
    "colab_type": "code",
    "id": "-BZpSiSDw_xV"
   },
   "outputs": [],
   "source": [
    "cl1_2 = KNeighborsClassifier(n_neighbors=6)\n",
    "cl1_2.fit(data_X_train, data_y_train)\n",
    "target2_0 = cl1_2.predict(data_X_train)\n",
    "target2_1 = cl1_2.predict(data_X_test)"
   ]
  },
  {
   "cell_type": "code",
   "execution_count": 24,
   "metadata": {
    "colab": {
     "base_uri": "https://localhost:8080/",
     "height": 36
    },
    "colab_type": "code",
    "id": "Q9rVmPaXyABY",
    "outputId": "bf052dda-d81a-43b3-b1ca-0d8be747864e"
   },
   "outputs": [
    {
     "data": {
      "text/plain": [
       "(0.7833689256105862, 0.7622813234361595)"
      ]
     },
     "execution_count": 24,
     "metadata": {
      "tags": []
     },
     "output_type": "execute_result"
    }
   ],
   "source": [
    "acc11 = accuracy_score(data_y_train, target1_0)\n",
    "acc12 = accuracy_score(data_y_test, target1_1)\n",
    "acc11, acc12"
   ]
  },
  {
   "cell_type": "code",
   "execution_count": 25,
   "metadata": {
    "colab": {
     "base_uri": "https://localhost:8080/",
     "height": 36
    },
    "colab_type": "code",
    "id": "nIy0oFQGxfxV",
    "outputId": "e098f9b6-e413-4913-d39f-21bbbebb3177"
   },
   "outputs": [
    {
     "data": {
      "text/plain": [
       "(0.8407299991607061, 0.7903316050580029)"
      ]
     },
     "execution_count": 25,
     "metadata": {
      "tags": []
     },
     "output_type": "execute_result"
    }
   ],
   "source": [
    "acc21 = accuracy_score(data_y_train, target2_0)\n",
    "acc22 = accuracy_score(data_y_test, target2_1)\n",
    "acc21, acc22"
   ]
  },
  {
   "cell_type": "code",
   "execution_count": 26,
   "metadata": {
    "colab": {
     "base_uri": "https://localhost:8080/",
     "height": 36
    },
    "colab_type": "code",
    "id": "okT8ZyPUx1PC",
    "outputId": "a65ea554-ce8b-49c4-c64a-4447a841e994"
   },
   "outputs": [
    {
     "name": "stdout",
     "output_type": "stream",
     "text": [
      "Увеличилось на 6.8228 и 3.5492 процентов.\n"
     ]
    }
   ],
   "source": [
    "print(\"Увеличилось на %.4f и %.4f процентов.\" % (100*(acc21-acc11)/acc21, 100*(acc22-acc12)/acc22))"
   ]
  },
  {
   "cell_type": "markdown",
   "metadata": {
    "colab_type": "text",
    "id": "3g3IlJj5xxqu"
   },
   "source": [
    "Как видно, подбор гиперпараметра немного улучшил результат"
   ]
  },
  {
   "cell_type": "markdown",
   "metadata": {
    "colab_type": "text",
    "id": "zQotjxQQbdwM"
   },
   "source": [
    "## Кривые обучения и валидации"
   ]
  },
  {
   "cell_type": "code",
   "execution_count": 0,
   "metadata": {
    "colab": {},
    "colab_type": "code",
    "id": "Zq__9vZEcNhi"
   },
   "outputs": [],
   "source": [
    "from sklearn.model_selection import learning_curve, validation_curve\n",
    "\n",
    "def plot_learning_curve(estimator, title, X, y, ylim=None, cv=None,\n",
    "                        n_jobs=None, train_sizes=np.linspace(.1, 1.0, 5)):\n",
    "    plt.figure()\n",
    "    plt.title(title)\n",
    "    if ylim is not None:\n",
    "        plt.ylim(*ylim)\n",
    "    plt.xlabel(\"Training examples\")\n",
    "    plt.ylabel(\"Score\")\n",
    "    train_sizes, train_scores, test_scores = learning_curve(\n",
    "        estimator, X, y, cv=cv, n_jobs=n_jobs, train_sizes=train_sizes)\n",
    "    train_scores_mean = np.mean(train_scores, axis=1)\n",
    "    train_scores_std = np.std(train_scores, axis=1)\n",
    "    test_scores_mean = np.mean(test_scores, axis=1)\n",
    "    test_scores_std = np.std(test_scores, axis=1)\n",
    "    plt.grid()\n",
    "\n",
    "    plt.fill_between(train_sizes, train_scores_mean - train_scores_std,\n",
    "                     train_scores_mean + train_scores_std, alpha=0.1,\n",
    "                     color=\"r\")\n",
    "    plt.fill_between(train_sizes, test_scores_mean - test_scores_std,\n",
    "                     test_scores_mean + test_scores_std, alpha=0.1, color=\"g\")\n",
    "    plt.plot(train_sizes, train_scores_mean, 'o-', color=\"r\",\n",
    "             label=\"Training score\")\n",
    "    plt.plot(train_sizes, test_scores_mean, 'o-', color=\"g\",\n",
    "             label=\"Cross-validation score\")\n",
    "\n",
    "    plt.legend(loc=\"best\")\n",
    "    return plt\n",
    "  \n",
    "def plot_validation_curve(estimator, title, X, y, \n",
    "                          param_name, param_range, cv, \n",
    "                          scoring=\"accuracy\"):                                        \n",
    "    train_scores, test_scores = validation_curve(\n",
    "        estimator, X, y, param_name=param_name, param_range=param_range,\n",
    "        cv=cv, scoring=scoring, n_jobs=1)\n",
    "    train_scores_mean = np.mean(train_scores, axis=1)\n",
    "    train_scores_std = np.std(train_scores, axis=1)\n",
    "    test_scores_mean = np.mean(test_scores, axis=1)\n",
    "    test_scores_std = np.std(test_scores, axis=1)\n",
    "\n",
    "    plt.title(title)\n",
    "    plt.xlabel(param_name)\n",
    "    plt.ylabel(\"Score\")\n",
    "    plt.ylim(0.0, 1.1)\n",
    "    lw = 2\n",
    "    plt.plot(param_range, train_scores_mean, label=\"Training score\",\n",
    "                 color=\"darkorange\", lw=lw)\n",
    "    plt.fill_between(param_range, train_scores_mean - train_scores_std,\n",
    "                     train_scores_mean + train_scores_std, alpha=0.2,\n",
    "                     color=\"darkorange\", lw=lw)\n",
    "    plt.plot(param_range, test_scores_mean, label=\"Cross-validation score\",\n",
    "                 color=\"navy\", lw=lw)\n",
    "    plt.fill_between(param_range, test_scores_mean - test_scores_std,\n",
    "                     test_scores_mean + test_scores_std, alpha=0.2,\n",
    "                     color=\"navy\", lw=lw)\n",
    "    plt.legend(loc=\"best\")\n",
    "    return plt  "
   ]
  },
  {
   "cell_type": "code",
   "execution_count": 31,
   "metadata": {
    "colab": {
     "base_uri": "https://localhost:8080/",
     "height": 320
    },
    "colab_type": "code",
    "id": "u_q2xpT4bu7Q",
    "outputId": "af66fe53-8e45-4eb7-fd37-45cc32c9ed88"
   },
   "outputs": [
    {
     "data": {
      "text/plain": [
       "<module 'matplotlib.pyplot' from '/usr/local/lib/python3.6/dist-packages/matplotlib/pyplot.py'>"
      ]
     },
     "execution_count": 31,
     "metadata": {
      "tags": []
     },
     "output_type": "execute_result"
    },
    {
     "data": {
      "image/png": "[encoded data removed]",
      "text/plain": [
       "<Figure size 432x288 with 1 Axes>"
      ]
     },
     "metadata": {
      "tags": []
     },
     "output_type": "display_data"
    }
   ],
   "source": [
    "plot_learning_curve(KNeighborsClassifier(n_neighbors=6), 'n_neighbors=6', \n",
    "                    data3, attacktype, cv=4)\n"
   ]
  },
  {
   "cell_type": "code",
   "execution_count": 33,
   "metadata": {
    "colab": {
     "base_uri": "https://localhost:8080/",
     "height": 320
    },
    "colab_type": "code",
    "id": "fkyulpjdc-SR",
    "outputId": "656adb74-1d49-4ff7-ce38-c0b562755f10"
   },
   "outputs": [
    {
     "data": {
      "text/plain": [
       "<module 'matplotlib.pyplot' from '/usr/local/lib/python3.6/dist-packages/matplotlib/pyplot.py'>"
      ]
     },
     "execution_count": 33,
     "metadata": {
      "tags": []
     },
     "output_type": "execute_result"
    },
    {
     "data": {
      "image/png": "[encoded data removed]",
      "text/plain": [
       "<Figure size 432x288 with 1 Axes>"
      ]
     },
     "metadata": {
      "tags": []
     },
     "output_type": "display_data"
    }
   ],
   "source": [
    "n_range2 = np.array(range(2,20,4))\n",
    "\n",
    "plot_validation_curve(KNeighborsClassifier(), 'knn', \n",
    "                      data3, attacktype, \n",
    "                      param_name='n_neighbors', param_range=n_range2, \n",
    "                      cv=4, scoring=\"accuracy\")"
   ]
  }
 ],
 "metadata": {
  "accelerator": "GPU",
  "colab": {
   "collapsed_sections": [],
   "name": "mlcourse_lab4.ipynb",
   "provenance": [],
   "toc_visible": true,
   "version": "0.3.2"
  },
  "kernelspec": {
   "display_name": "Python 3",
   "language": "python",
   "name": "python3"
  },
  "lab_number": 4,
  "language_info": {
   "codemirror_mode": {
    "name": "ipython",
    "version": 3
   },
   "file_extension": ".py",
   "mimetype": "text/x-python",
   "name": "python",
   "nbconvert_exporter": "python",
   "pygments_lexer": "ipython3",
   "version": "3.7.3"
  },
  "title": "Подготовка обучающей и тестовой выборки, кросс-валидация и подбор гиперпараметров на примере метода ближайших соседей"
 },
 "nbformat": 4,
 "nbformat_minor": 1
}
