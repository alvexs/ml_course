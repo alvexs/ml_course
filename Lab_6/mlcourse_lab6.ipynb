{
 "cells": [
  {
   "cell_type": "markdown",
   "metadata": {
    "colab_type": "text",
    "id": "_J1mdLAGkrDr"
   },
   "source": [
    "# Описание задания\n",
    "\n",
    "**Цель лабораторной работы:** изучение ансамблей моделей машинного обучения.\n"
   ]
  },
  {
   "cell_type": "markdown",
   "metadata": {
    "colab_type": "text",
    "id": "RUx_nmkunIGt"
   },
   "source": [
    "# Задание\n",
    "\n",
    "1.\tВыберите набор данных (датасет) для решения задачи классификации или регресии.\n",
    "2.\tВ случае необходимости проведите удаление или заполнение пропусков и кодирование категориальных признаков.\n",
    "3.\tС использованием метода train_test_split разделите выборку на обучающую и тестовую.\n",
    "4.\tОбучите две ансамблевые модели. Оцените качество моделей с помощью одной из подходящих для задачи метрик. Сравните качество полученных моделей.\n",
    "5.\tПроизведите для каждой модели подбор значений одного гиперпараметра. В зависимости от используемой библиотеки можно применять функцию GridSearchCV, использовать перебор параметров в цикле, или использовать другие методы.\n",
    "6.\tПовторите пункт 4 для найденных оптимальных значений гиперпараметров. Сравните качество полученных моделей с качеством моделей, полученных в пункте 4.\n",
    "\n",
    "\n",
    "\n",
    "\n",
    "\n",
    "\n"
   ]
  },
  {
   "cell_type": "markdown",
   "metadata": {
    "colab_type": "text",
    "id": "S0bNNLBmixrT"
   },
   "source": [
    "# Ход выполнения лабораторной работы"
   ]
  },
  {
   "cell_type": "markdown",
   "metadata": {
    "colab_type": "text",
    "id": "NwuFbNy1U533"
   },
   "source": [
    "## Выбор датасета"
   ]
  },
  {
   "cell_type": "markdown",
   "metadata": {
    "colab_type": "text",
    "id": "tzTGkYOfVFEC"
   },
   "source": [
    "В качестве исходных данных выбираем датасет о террористических атаках. Он содержит около 180 тысячи записей, а также имеет разные столбцы с категориальными данными. Такой датасет может подходить для обучения методом ближайших соседей.\n",
    "\n",
    "В качестве задачи поставим определение вида атаки по остальным колонкам."
   ]
  },
  {
   "cell_type": "markdown",
   "metadata": {
    "colab_type": "text",
    "id": "hTnRyh29mk-N"
   },
   "source": [
    "## Проверка и удаление пропусков"
   ]
  },
  {
   "cell_type": "code",
   "execution_count": 0,
   "metadata": {
    "colab": {},
    "colab_type": "code",
    "id": "WgO4R5CT6bXD"
   },
   "outputs": [],
   "source": [
    "import warnings\n",
    "warnings.filterwarnings('ignore')"
   ]
  },
  {
   "cell_type": "code",
   "execution_count": 4,
   "metadata": {
    "colab": {
     "base_uri": "https://localhost:8080/",
     "height": 297
    },
    "colab_type": "code",
    "executionInfo": {
     "elapsed": 4930,
     "status": "ok",
     "timestamp": 1556737286042,
     "user": {
      "displayName": "Никита Тодосиев",
      "photoUrl": "",
      "userId": "15188032349092888776"
     },
     "user_tz": -180
    },
    "id": "9OC7JcE9te9U",
    "outputId": "2105fbea-9ca8-43a6-bb8b-97e73bedfcbc"
   },
   "outputs": [
    {
     "name": "stdout",
     "output_type": "stream",
     "text": [
      "Collecting git+git://github.com/kvoyager/GmdhPy.git\n",
      "  Cloning git://github.com/kvoyager/GmdhPy.git to /tmp/pip-req-build-h3m6u23s\n",
      "Requirement already satisfied (use --upgrade to upgrade): GmdhPy==2.0 from git+git://github.com/kvoyager/GmdhPy.git in /usr/local/lib/python3.6/dist-packages\n",
      "Requirement already satisfied: numpy in /usr/local/lib/python3.6/dist-packages (from GmdhPy==2.0) (1.16.3)\n",
      "Requirement already satisfied: six in /usr/local/lib/python3.6/dist-packages (from GmdhPy==2.0) (1.12.0)\n",
      "Requirement already satisfied: scikit-learn in /usr/local/lib/python3.6/dist-packages (from GmdhPy==2.0) (0.20.3)\n",
      "Requirement already satisfied: pandas in /usr/local/lib/python3.6/dist-packages (from GmdhPy==2.0) (0.24.2)\n",
      "Requirement already satisfied: scipy>=0.13.3 in /usr/local/lib/python3.6/dist-packages (from scikit-learn->GmdhPy==2.0) (1.2.1)\n",
      "Requirement already satisfied: pytz>=2011k in /usr/local/lib/python3.6/dist-packages (from pandas->GmdhPy==2.0) (2018.9)\n",
      "Requirement already satisfied: python-dateutil>=2.5.0 in /usr/local/lib/python3.6/dist-packages (from pandas->GmdhPy==2.0) (2.5.3)\n",
      "Building wheels for collected packages: GmdhPy\n",
      "  Building wheel for GmdhPy (setup.py) ... \u001b[?25ldone\n",
      "\u001b[?25h  Stored in directory: /tmp/pip-ephem-wheel-cache-hp547vc8/wheels/69/6c/43/d6d9c8729bf1a2dce40efe68fa2919dad6f2d69fbc9e58353b\n",
      "Successfully built GmdhPy\n"
     ]
    }
   ],
   "source": [
    "!pip install git+git://github.com/kvoyager/GmdhPy.git"
   ]
  },
  {
   "cell_type": "code",
   "execution_count": 5,
   "metadata": {
    "colab": {
     "base_uri": "https://localhost:8080/",
     "height": 56
    },
    "colab_type": "code",
    "executionInfo": {
     "elapsed": 542,
     "status": "ok",
     "timestamp": 1556737288497,
     "user": {
      "displayName": "Никита Тодосиев",
      "photoUrl": "",
      "userId": "15188032349092888776"
     },
     "user_tz": -180
    },
    "id": "XdSpUnSrq8p9",
    "outputId": "35c80e9c-bdd8-48ca-8dca-131e54605076"
   },
   "outputs": [
    {
     "name": "stdout",
     "output_type": "stream",
     "text": [
      "Drive already mounted at /content/drive; to attempt to forcibly remount, call drive.mount(\"/content/drive\", force_remount=True).\n"
     ]
    }
   ],
   "source": [
    "from google.colab import drive, files\n",
    "drive.mount('/content/drive')"
   ]
  },
  {
   "cell_type": "code",
   "execution_count": 0,
   "metadata": {
    "colab": {},
    "colab_type": "code",
    "id": "dqR3UISf9mXT"
   },
   "outputs": [],
   "source": [
    "from google.colab import files\n",
    "import os\n",
    "import numpy as np\n",
    "import pandas as pd\n",
    "import seaborn as sns\n",
    "import matplotlib.pyplot as plt\n",
    "%matplotlib inline \n",
    "os.listdir()\n",
    "data = pd.read_csv('drive/My Drive/Files/globalterrorismdb_0718dist.csv',\n",
    "                   sep=\",\", encoding=\"iso-8859-1\")"
   ]
  },
  {
   "cell_type": "markdown",
   "metadata": {
    "colab_type": "text",
    "id": "U5OSTknYbDWh"
   },
   "source": [
    "Количество пустых колонок огромно, поэтому сначала удалим все столбцы, у которых количество заполненных значений менее 150000 (примерно 5/6 от всего датасета), а затем удалим строки с пустым значением."
   ]
  },
  {
   "cell_type": "code",
   "execution_count": 7,
   "metadata": {
    "colab": {
     "base_uri": "https://localhost:8080/",
     "height": 36
    },
    "colab_type": "code",
    "executionInfo": {
     "elapsed": 1848,
     "status": "ok",
     "timestamp": 1556737300120,
     "user": {
      "displayName": "Никита Тодосиев",
      "photoUrl": "",
      "userId": "15188032349092888776"
     },
     "user_tz": -180
    },
    "id": "FrgPzizwbMli",
    "outputId": "d691ddf1-97d1-447a-f7f1-a191623139c7"
   },
   "outputs": [
    {
     "data": {
      "text/plain": [
       "((181691, 135), (181691, 47))"
      ]
     },
     "execution_count": 7,
     "metadata": {
      "tags": []
     },
     "output_type": "execute_result"
    }
   ],
   "source": [
    "# Удаление колонок, содержащих пустые значения\n",
    "data_temp_1 = data.dropna(axis=1, how='any', thresh=150000)\n",
    "(data.shape, data_temp_1.shape)"
   ]
  },
  {
   "cell_type": "code",
   "execution_count": 8,
   "metadata": {
    "colab": {
     "base_uri": "https://localhost:8080/",
     "height": 36
    },
    "colab_type": "code",
    "executionInfo": {
     "elapsed": 685,
     "status": "ok",
     "timestamp": 1556737301394,
     "user": {
      "displayName": "Никита Тодосиев",
      "photoUrl": "",
      "userId": "15188032349092888776"
     },
     "user_tz": -180
    },
    "id": "O8n_V4jQZqpH",
    "outputId": "3169ca45-154d-432b-f421-3ce4cdc47305"
   },
   "outputs": [
    {
     "data": {
      "text/plain": [
       "((181691, 47), (134042, 47))"
      ]
     },
     "execution_count": 8,
     "metadata": {
      "tags": []
     },
     "output_type": "execute_result"
    }
   ],
   "source": [
    "data_new_1 = data_temp_1.dropna(axis=0, how='any')\n",
    "(data_temp_1.shape, data_new_1.shape)"
   ]
  },
  {
   "cell_type": "code",
   "execution_count": 9,
   "metadata": {
    "colab": {
     "base_uri": "https://localhost:8080/",
     "height": 342
    },
    "colab_type": "code",
    "executionInfo": {
     "elapsed": 587,
     "status": "ok",
     "timestamp": 1556737302682,
     "user": {
      "displayName": "Никита Тодосиев",
      "photoUrl": "",
      "userId": "15188032349092888776"
     },
     "user_tz": -180
    },
    "id": "QTDfSrxBYJ9I",
    "outputId": "8cd97d8e-1c9f-4646-e982-69ea9295f56f"
   },
   "outputs": [
    {
     "data": {
      "text/html": [
       "<div>\n",
       "<style scoped>\n",
       "    .dataframe tbody tr th:only-of-type {\n",
       "        vertical-align: middle;\n",
       "    }\n",
       "\n",
       "    .dataframe tbody tr th {\n",
       "        vertical-align: top;\n",
       "    }\n",
       "\n",
       "    .dataframe thead th {\n",
       "        text-align: right;\n",
       "    }\n",
       "</style>\n",
       "<table border=\"1\" class=\"dataframe\">\n",
       "  <thead>\n",
       "    <tr style=\"text-align: right;\">\n",
       "      <th></th>\n",
       "      <th>eventid</th>\n",
       "      <th>iyear</th>\n",
       "      <th>imonth</th>\n",
       "      <th>iday</th>\n",
       "      <th>extended</th>\n",
       "      <th>country</th>\n",
       "      <th>country_txt</th>\n",
       "      <th>region</th>\n",
       "      <th>region_txt</th>\n",
       "      <th>provstate</th>\n",
       "      <th>...</th>\n",
       "      <th>weapsubtype1_txt</th>\n",
       "      <th>nkill</th>\n",
       "      <th>nwound</th>\n",
       "      <th>property</th>\n",
       "      <th>ishostkid</th>\n",
       "      <th>dbsource</th>\n",
       "      <th>INT_LOG</th>\n",
       "      <th>INT_IDEO</th>\n",
       "      <th>INT_MISC</th>\n",
       "      <th>INT_ANY</th>\n",
       "    </tr>\n",
       "  </thead>\n",
       "  <tbody>\n",
       "    <tr>\n",
       "      <th>5</th>\n",
       "      <td>197001010002</td>\n",
       "      <td>1970</td>\n",
       "      <td>1</td>\n",
       "      <td>1</td>\n",
       "      <td>0</td>\n",
       "      <td>217</td>\n",
       "      <td>United States</td>\n",
       "      <td>1</td>\n",
       "      <td>North America</td>\n",
       "      <td>Illinois</td>\n",
       "      <td>...</td>\n",
       "      <td>Unknown Gun Type</td>\n",
       "      <td>0.0</td>\n",
       "      <td>0.0</td>\n",
       "      <td>1</td>\n",
       "      <td>0.0</td>\n",
       "      <td>Hewitt Project</td>\n",
       "      <td>-9</td>\n",
       "      <td>-9</td>\n",
       "      <td>0</td>\n",
       "      <td>-9</td>\n",
       "    </tr>\n",
       "    <tr>\n",
       "      <th>6</th>\n",
       "      <td>197001020001</td>\n",
       "      <td>1970</td>\n",
       "      <td>1</td>\n",
       "      <td>2</td>\n",
       "      <td>0</td>\n",
       "      <td>218</td>\n",
       "      <td>Uruguay</td>\n",
       "      <td>3</td>\n",
       "      <td>South America</td>\n",
       "      <td>Montevideo</td>\n",
       "      <td>...</td>\n",
       "      <td>Automatic or Semi-Automatic Rifle</td>\n",
       "      <td>0.0</td>\n",
       "      <td>0.0</td>\n",
       "      <td>0</td>\n",
       "      <td>0.0</td>\n",
       "      <td>PGIS</td>\n",
       "      <td>0</td>\n",
       "      <td>0</td>\n",
       "      <td>0</td>\n",
       "      <td>0</td>\n",
       "    </tr>\n",
       "    <tr>\n",
       "      <th>7</th>\n",
       "      <td>197001020002</td>\n",
       "      <td>1970</td>\n",
       "      <td>1</td>\n",
       "      <td>2</td>\n",
       "      <td>0</td>\n",
       "      <td>217</td>\n",
       "      <td>United States</td>\n",
       "      <td>1</td>\n",
       "      <td>North America</td>\n",
       "      <td>California</td>\n",
       "      <td>...</td>\n",
       "      <td>Unknown Explosive Type</td>\n",
       "      <td>0.0</td>\n",
       "      <td>0.0</td>\n",
       "      <td>1</td>\n",
       "      <td>0.0</td>\n",
       "      <td>Hewitt Project</td>\n",
       "      <td>-9</td>\n",
       "      <td>-9</td>\n",
       "      <td>0</td>\n",
       "      <td>-9</td>\n",
       "    </tr>\n",
       "    <tr>\n",
       "      <th>8</th>\n",
       "      <td>197001020003</td>\n",
       "      <td>1970</td>\n",
       "      <td>1</td>\n",
       "      <td>2</td>\n",
       "      <td>0</td>\n",
       "      <td>217</td>\n",
       "      <td>United States</td>\n",
       "      <td>1</td>\n",
       "      <td>North America</td>\n",
       "      <td>Wisconsin</td>\n",
       "      <td>...</td>\n",
       "      <td>Molotov Cocktail/Petrol Bomb</td>\n",
       "      <td>0.0</td>\n",
       "      <td>0.0</td>\n",
       "      <td>1</td>\n",
       "      <td>0.0</td>\n",
       "      <td>Hewitt Project</td>\n",
       "      <td>0</td>\n",
       "      <td>0</td>\n",
       "      <td>0</td>\n",
       "      <td>0</td>\n",
       "    </tr>\n",
       "    <tr>\n",
       "      <th>9</th>\n",
       "      <td>197001030001</td>\n",
       "      <td>1970</td>\n",
       "      <td>1</td>\n",
       "      <td>3</td>\n",
       "      <td>0</td>\n",
       "      <td>217</td>\n",
       "      <td>United States</td>\n",
       "      <td>1</td>\n",
       "      <td>North America</td>\n",
       "      <td>Wisconsin</td>\n",
       "      <td>...</td>\n",
       "      <td>Gasoline or Alcohol</td>\n",
       "      <td>0.0</td>\n",
       "      <td>0.0</td>\n",
       "      <td>1</td>\n",
       "      <td>0.0</td>\n",
       "      <td>Hewitt Project</td>\n",
       "      <td>0</td>\n",
       "      <td>0</td>\n",
       "      <td>0</td>\n",
       "      <td>0</td>\n",
       "    </tr>\n",
       "  </tbody>\n",
       "</table>\n",
       "<p>5 rows × 47 columns</p>\n",
       "</div>"
      ],
      "text/plain": [
       "        eventid  iyear  imonth  iday  extended  country    country_txt  \\\n",
       "5  197001010002   1970       1     1         0      217  United States   \n",
       "6  197001020001   1970       1     2         0      218        Uruguay   \n",
       "7  197001020002   1970       1     2         0      217  United States   \n",
       "8  197001020003   1970       1     2         0      217  United States   \n",
       "9  197001030001   1970       1     3         0      217  United States   \n",
       "\n",
       "   region     region_txt   provstate  ...                   weapsubtype1_txt  \\\n",
       "5       1  North America    Illinois  ...                   Unknown Gun Type   \n",
       "6       3  South America  Montevideo  ...  Automatic or Semi-Automatic Rifle   \n",
       "7       1  North America  California  ...             Unknown Explosive Type   \n",
       "8       1  North America   Wisconsin  ...       Molotov Cocktail/Petrol Bomb   \n",
       "9       1  North America   Wisconsin  ...                Gasoline or Alcohol   \n",
       "\n",
       "   nkill  nwound  property  ishostkid        dbsource  INT_LOG  INT_IDEO  \\\n",
       "5    0.0     0.0         1        0.0  Hewitt Project       -9        -9   \n",
       "6    0.0     0.0         0        0.0            PGIS        0         0   \n",
       "7    0.0     0.0         1        0.0  Hewitt Project       -9        -9   \n",
       "8    0.0     0.0         1        0.0  Hewitt Project        0         0   \n",
       "9    0.0     0.0         1        0.0  Hewitt Project        0         0   \n",
       "\n",
       "   INT_MISC  INT_ANY  \n",
       "5         0       -9  \n",
       "6         0        0  \n",
       "7         0       -9  \n",
       "8         0        0  \n",
       "9         0        0  \n",
       "\n",
       "[5 rows x 47 columns]"
      ]
     },
     "execution_count": 9,
     "metadata": {
      "tags": []
     },
     "output_type": "execute_result"
    }
   ],
   "source": [
    "data_new_1.head()"
   ]
  },
  {
   "cell_type": "code",
   "execution_count": 10,
   "metadata": {
    "colab": {
     "base_uri": "https://localhost:8080/",
     "height": 36
    },
    "colab_type": "code",
    "executionInfo": {
     "elapsed": 563,
     "status": "ok",
     "timestamp": 1556737304463,
     "user": {
      "displayName": "Никита Тодосиев",
      "photoUrl": "",
      "userId": "15188032349092888776"
     },
     "user_tz": -180
    },
    "id": "eMP9IQ2HbgSP",
    "outputId": "e518ea33-4a6d-4080-a0d7-26bd28697d58"
   },
   "outputs": [
    {
     "data": {
      "text/plain": [
       "(134042, 28)"
      ]
     },
     "execution_count": 10,
     "metadata": {
      "tags": []
     },
     "output_type": "execute_result"
    }
   ],
   "source": [
    "data2 = data_new_1.drop([\"provstate\", \"eventid\",\n",
    "                 \"dbsource\", \"INT_LOG\", \"INT_IDEO\", \"INT_MISC\",\n",
    "                 \"INT_ANY\", \"individual\", \"weapsubtype1\",\n",
    "                 \"weapsubtype1_txt\", \"property\", \"vicinity\", \"crit2\",\n",
    "                 \"crit3\", \"natlty1\", \"iday\", \"imonth\", \"iyear\",\n",
    "                 \"extended\"], axis=1)\n",
    "data2.shape"
   ]
  },
  {
   "cell_type": "markdown",
   "metadata": {
    "colab_type": "text",
    "id": "zW-RGAmPbB9S"
   },
   "source": [
    "## train_test_split\n",
    "\n"
   ]
  },
  {
   "cell_type": "code",
   "execution_count": 0,
   "metadata": {
    "colab": {},
    "colab_type": "code",
    "id": "7QA_avK2bf8o"
   },
   "outputs": [],
   "source": [
    "from sklearn.model_selection import train_test_split\n",
    "attacktype = data2[\"attacktype1\"]\n",
    "data3 = data2.drop([\"attacktype1\"], axis=1)\n",
    "for col in data3.columns:\n",
    "  dt = str(data[col].dtype)\n",
    "  if not (dt=='float64' or dt=='int64'):\n",
    "    data3 = data3.drop([col], axis=1)\n",
    "data_X_train, data_X_test, data_y_train, data_y_test = train_test_split(\n",
    "    data3, attacktype, test_size=0.2, random_state=1)"
   ]
  },
  {
   "cell_type": "markdown",
   "metadata": {
    "colab_type": "text",
    "id": "pNsi438lGsxT"
   },
   "source": [
    "## Обучение "
   ]
  },
  {
   "cell_type": "code",
   "execution_count": 0,
   "metadata": {
    "colab": {},
    "colab_type": "code",
    "id": "k2gVmrR02jFW"
   },
   "outputs": [],
   "source": [
    "from sklearn.ensemble import RandomForestClassifier, GradientBoostingClassifier\n",
    "\n",
    "from sklearn.metrics import mean_squared_error"
   ]
  },
  {
   "cell_type": "code",
   "execution_count": 0,
   "metadata": {
    "colab": {},
    "colab_type": "code",
    "id": "CWlSoRKc22bD"
   },
   "outputs": [],
   "source": [
    "template = \"Отклонение на тренируемой выборке: {:.3f} \\\n",
    "отклонение на тестовой выборке: {:.3f}\""
   ]
  },
  {
   "cell_type": "code",
   "execution_count": 0,
   "metadata": {
    "colab": {},
    "colab_type": "code",
    "id": "A1ophd9S8sok"
   },
   "outputs": [],
   "source": [
    "class Classifier():\n",
    "  def __init__(self, method, x_train, y_train, x_test, y_test):\n",
    "    self._method = method\n",
    "    self.x_train = x_train\n",
    "    self.y_train = y_train\n",
    "    self.x_test = x_test\n",
    "    self.y_test = y_test\n",
    "    self.target_1 = []\n",
    "    self.target_2 = []\n",
    "   \n",
    "  def training(self):\n",
    "    self._method.fit(self.x_train, self.y_train)\n",
    "    self.target_1 = self._method.predict(self.x_train)\n",
    "    self.target_2 = self._method.predict(self.x_test)\n",
    "    \n",
    "  def result(self, metric):\n",
    "    print(template.format(metric(self.y_train, self.target_1), \n",
    "                      metric(self.y_test, self.target_2)))\n",
    "    "
   ]
  },
  {
   "cell_type": "markdown",
   "metadata": {
    "colab_type": "text",
    "id": "8T3VCP9Dr48T"
   },
   "source": [
    "### RandomForestClassifier"
   ]
  },
  {
   "cell_type": "code",
   "execution_count": 57,
   "metadata": {
    "colab": {
     "base_uri": "https://localhost:8080/",
     "height": 36
    },
    "colab_type": "code",
    "executionInfo": {
     "elapsed": 2407,
     "status": "ok",
     "timestamp": 1556742283311,
     "user": {
      "displayName": "Никита Тодосиев",
      "photoUrl": "",
      "userId": "15188032349092888776"
     },
     "user_tz": -180
    },
    "id": "Fn5F1Qqs7D5M",
    "outputId": "3d6b552e-289a-4d93-9618-8efbd7c5ce47"
   },
   "outputs": [
    {
     "name": "stdout",
     "output_type": "stream",
     "text": [
      "Отклонение на тренируемой выборке: 0.062 отклонение на тестовой выборке: 0.635\n"
     ]
    }
   ],
   "source": [
    "rfr = Classifier(RandomForestClassifier(max_features=1), data_X_train, \n",
    "                    data_y_train, data_X_test, data_y_test)\n",
    "rfr.training()\n",
    "rfr.result(mean_squared_error)"
   ]
  },
  {
   "cell_type": "markdown",
   "metadata": {
    "colab_type": "text",
    "id": "14EEpO1X6-kQ"
   },
   "source": [
    "### GradientBoostingClassifier\n"
   ]
  },
  {
   "cell_type": "code",
   "execution_count": 58,
   "metadata": {
    "colab": {
     "base_uri": "https://localhost:8080/",
     "height": 36
    },
    "colab_type": "code",
    "executionInfo": {
     "elapsed": 55195,
     "status": "ok",
     "timestamp": 1556742346778,
     "user": {
      "displayName": "Никита Тодосиев",
      "photoUrl": "",
      "userId": "15188032349092888776"
     },
     "user_tz": -180
    },
    "id": "Llr2x-TA-cd4",
    "outputId": "d417d420-86d0-4df4-bbef-a3b5ef3f9858"
   },
   "outputs": [
    {
     "name": "stdout",
     "output_type": "stream",
     "text": [
      "Отклонение на тренируемой выборке: 0.689 отклонение на тестовой выборке: 0.701\n"
     ]
    }
   ],
   "source": [
    "gbc = Classifier(GradientBoostingClassifier(max_features=1), data_X_train, \n",
    "                    data_y_train, data_X_test, data_y_test)\n",
    "gbc.training()\n",
    "gbc.result(mean_squared_error)"
   ]
  },
  {
   "cell_type": "markdown",
   "metadata": {
    "colab_type": "text",
    "id": "WLuFiC0iGgEj"
   },
   "source": [
    "Видно, что на тестовой выборке обе ансамблевые модели ведут себя почти одинаково.\n"
   ]
  },
  {
   "cell_type": "markdown",
   "metadata": {
    "colab_type": "text",
    "id": "BxuuNxzaJxdI"
   },
   "source": [
    "## Подбор гиперпараметра K с использованием GridSearchCV и кросс-валидации"
   ]
  },
  {
   "cell_type": "markdown",
   "metadata": {
    "colab_type": "text",
    "id": "orCsTHaH1_64"
   },
   "source": [
    "### RandomForestClassifier"
   ]
  },
  {
   "cell_type": "code",
   "execution_count": 35,
   "metadata": {
    "colab": {
     "base_uri": "https://localhost:8080/",
     "height": 36
    },
    "colab_type": "code",
    "executionInfo": {
     "elapsed": 547,
     "status": "ok",
     "timestamp": 1556740013000,
     "user": {
      "displayName": "Никита Тодосиев",
      "photoUrl": "",
      "userId": "15188032349092888776"
     },
     "user_tz": -180
    },
    "id": "UIkLa0qDa3YV",
    "outputId": "15bcd9a0-d29f-4fab-f178-a5a360a46a80"
   },
   "outputs": [
    {
     "data": {
      "text/plain": [
       "[{'max_features': array([3, 4, 5, 6, 7, 8, 9])}]"
      ]
     },
     "execution_count": 35,
     "metadata": {
      "tags": []
     },
     "output_type": "execute_result"
    }
   ],
   "source": [
    "n_range = np.array(range(3,10,1))\n",
    "tuned_parameters = [{'max_features': n_range}]\n",
    "tuned_parameters"
   ]
  },
  {
   "cell_type": "code",
   "execution_count": 37,
   "metadata": {
    "colab": {
     "base_uri": "https://localhost:8080/",
     "height": 240
    },
    "colab_type": "code",
    "executionInfo": {
     "elapsed": 85864,
     "status": "ok",
     "timestamp": 1556740136111,
     "user": {
      "displayName": "Никита Тодосиев",
      "photoUrl": "",
      "userId": "15188032349092888776"
     },
     "user_tz": -180
    },
    "id": "tXs4b-6dbGFF",
    "outputId": "4f7bd920-2c11-4334-ecab-7e063714dc7f"
   },
   "outputs": [
    {
     "data": {
      "text/plain": [
       "GridSearchCV(cv=5, error_score='raise-deprecating',\n",
       "       estimator=RandomForestClassifier(bootstrap=True, class_weight=None, criterion='gini',\n",
       "            max_depth=None, max_features='auto', max_leaf_nodes=None,\n",
       "            min_impurity_decrease=0.0, min_impurity_split=None,\n",
       "            min_samples_leaf=1, min_samples_split=2,\n",
       "            min_weight_fraction_leaf=0.0, n_estimators='warn', n_jobs=None,\n",
       "            oob_score=False, random_state=None, verbose=0,\n",
       "            warm_start=False),\n",
       "       fit_params=None, iid='warn', n_jobs=None,\n",
       "       param_grid=[{'max_features': array([3, 4, 5, 6, 7, 8, 9])}],\n",
       "       pre_dispatch='2*n_jobs', refit=True, return_train_score='warn',\n",
       "       scoring='accuracy', verbose=0)"
      ]
     },
     "execution_count": 37,
     "metadata": {
      "tags": []
     },
     "output_type": "execute_result"
    }
   ],
   "source": [
    "from sklearn.model_selection import GridSearchCV\n",
    "\n",
    "cl_rfc_gs = GridSearchCV(RandomForestClassifier(), tuned_parameters, cv=5,\n",
    "                      scoring='accuracy')\n",
    "cl_rfc_gs.fit(data_X_train, data_y_train)"
   ]
  },
  {
   "cell_type": "code",
   "execution_count": 38,
   "metadata": {
    "colab": {
     "base_uri": "https://localhost:8080/",
     "height": 36
    },
    "colab_type": "code",
    "executionInfo": {
     "elapsed": 84402,
     "status": "ok",
     "timestamp": 1556740136124,
     "user": {
      "displayName": "Никита Тодосиев",
      "photoUrl": "",
      "userId": "15188032349092888776"
     },
     "user_tz": -180
    },
    "id": "bnEK7Ub2hll4",
    "outputId": "0a94be3f-396c-4565-aaa6-12bd7b307172"
   },
   "outputs": [
    {
     "data": {
      "text/plain": [
       "{'max_features': 6}"
      ]
     },
     "execution_count": 38,
     "metadata": {
      "tags": []
     },
     "output_type": "execute_result"
    }
   ],
   "source": [
    "cl_rfc_gs.best_params_"
   ]
  },
  {
   "cell_type": "code",
   "execution_count": 39,
   "metadata": {
    "colab": {
     "base_uri": "https://localhost:8080/",
     "height": 288
    },
    "colab_type": "code",
    "executionInfo": {
     "elapsed": 81453,
     "status": "ok",
     "timestamp": 1556740136388,
     "user": {
      "displayName": "Никита Тодосиев",
      "photoUrl": "",
      "userId": "15188032349092888776"
     },
     "user_tz": -180
    },
    "id": "sEECbkXLhwfo",
    "outputId": "ee2d4a39-865f-41fe-841c-342e34e4ca57"
   },
   "outputs": [
    {
     "data": {
      "text/plain": [
       "[<matplotlib.lines.Line2D at 0x7fca60ecfac8>]"
      ]
     },
     "execution_count": 39,
     "metadata": {
      "tags": []
     },
     "output_type": "execute_result"
    },
    {
     "data": {
      "image/png": "[encoded data removed]",
      "text/plain": [
       "<Figure size 432x288 with 1 Axes>"
      ]
     },
     "metadata": {
      "tags": []
     },
     "output_type": "display_data"
    }
   ],
   "source": [
    "plt.plot(n_range, cl_rfc_gs.cv_results_['mean_test_score'])"
   ]
  },
  {
   "cell_type": "markdown",
   "metadata": {
    "colab_type": "text",
    "id": "EZxiOGKx8tO6"
   },
   "source": [
    "Как и говорит теория, $dl$ примерно равно $\\sqrt{D}$"
   ]
  },
  {
   "cell_type": "markdown",
   "metadata": {
    "colab_type": "text",
    "id": "4wJw8xRF4CzM"
   },
   "source": [
    "### GradientBoostingClassifier"
   ]
  },
  {
   "cell_type": "code",
   "execution_count": 43,
   "metadata": {
    "colab": {
     "base_uri": "https://localhost:8080/",
     "height": 36
    },
    "colab_type": "code",
    "executionInfo": {
     "elapsed": 539,
     "status": "ok",
     "timestamp": 1556740877976,
     "user": {
      "displayName": "Никита Тодосиев",
      "photoUrl": "",
      "userId": "15188032349092888776"
     },
     "user_tz": -180
    },
    "id": "cP1M_acg36QF",
    "outputId": "3c90c12d-a232-4fe4-93c5-57a1dd715cfa"
   },
   "outputs": [
    {
     "data": {
      "text/plain": [
       "[{'max_features': array([4, 5, 6, 7, 8])}]"
      ]
     },
     "execution_count": 43,
     "metadata": {
      "tags": []
     },
     "output_type": "execute_result"
    }
   ],
   "source": [
    "n_range = np.array(range(4,9,1))\n",
    "tuned_parameters = [{'max_features': n_range}]\n",
    "tuned_parameters"
   ]
  },
  {
   "cell_type": "code",
   "execution_count": 44,
   "metadata": {
    "colab": {
     "base_uri": "https://localhost:8080/",
     "height": 221
    },
    "colab_type": "code",
    "executionInfo": {
     "elapsed": 798924,
     "status": "ok",
     "timestamp": 1556741678192,
     "user": {
      "displayName": "Никита Тодосиев",
      "photoUrl": "",
      "userId": "15188032349092888776"
     },
     "user_tz": -180
    },
    "id": "lme5BUt-362d",
    "outputId": "527a5492-5f98-49f5-dbce-77f0d0c688d7"
   },
   "outputs": [
    {
     "data": {
      "text/plain": [
       "GridSearchCV(cv=3, error_score='raise-deprecating',\n",
       "       estimator=GradientBoostingClassifier(criterion='friedman_mse', init=None,\n",
       "              learning_rate=0.1, loss='deviance', max_depth=3,\n",
       "              max_features=None, max_leaf_nodes=None,\n",
       "              min_impurity_decrease=0.0, min_impurity_split=None,\n",
       "              min_samples_leaf=1, min_sampl...      subsample=1.0, tol=0.0001, validation_fraction=0.1,\n",
       "              verbose=0, warm_start=False),\n",
       "       fit_params=None, iid='warn', n_jobs=None,\n",
       "       param_grid=[{'max_features': array([4, 5, 6, 7, 8])}],\n",
       "       pre_dispatch='2*n_jobs', refit=True, return_train_score='warn',\n",
       "       scoring='accuracy', verbose=0)"
      ]
     },
     "execution_count": 44,
     "metadata": {
      "tags": []
     },
     "output_type": "execute_result"
    }
   ],
   "source": [
    "cl_gbc_gs = GridSearchCV(GradientBoostingClassifier(), tuned_parameters, cv=3,\n",
    "                      scoring='accuracy')\n",
    "cl_gbc_gs.fit(data_X_train, data_y_train)"
   ]
  },
  {
   "cell_type": "code",
   "execution_count": 45,
   "metadata": {
    "colab": {
     "base_uri": "https://localhost:8080/",
     "height": 36
    },
    "colab_type": "code",
    "executionInfo": {
     "elapsed": 785319,
     "status": "ok",
     "timestamp": 1556741678202,
     "user": {
      "displayName": "Никита Тодосиев",
      "photoUrl": "",
      "userId": "15188032349092888776"
     },
     "user_tz": -180
    },
    "id": "6Ji10jj436-X",
    "outputId": "7cc9b100-a3b5-4555-ed37-dddc77034108"
   },
   "outputs": [
    {
     "data": {
      "text/plain": [
       "{'max_features': 8}"
      ]
     },
     "execution_count": 45,
     "metadata": {
      "tags": []
     },
     "output_type": "execute_result"
    }
   ],
   "source": [
    "cl_gbc_gs.best_params_"
   ]
  },
  {
   "cell_type": "code",
   "execution_count": 46,
   "metadata": {
    "colab": {
     "base_uri": "https://localhost:8080/",
     "height": 288
    },
    "colab_type": "code",
    "executionInfo": {
     "elapsed": 784297,
     "status": "ok",
     "timestamp": 1556741678207,
     "user": {
      "displayName": "Никита Тодосиев",
      "photoUrl": "",
      "userId": "15188032349092888776"
     },
     "user_tz": -180
    },
    "id": "mzLQt5R037Ge",
    "outputId": "85ecf88c-3bcf-40b5-a2fc-b1a5aa51daaf"
   },
   "outputs": [
    {
     "data": {
      "text/plain": [
       "[<matplotlib.lines.Line2D at 0x7fca63bf00f0>]"
      ]
     },
     "execution_count": 46,
     "metadata": {
      "tags": []
     },
     "output_type": "execute_result"
    },
    {
     "data": {
      "image/png": "[encoded data removed]",
      "text/plain": [
       "<Figure size 432x288 with 1 Axes>"
      ]
     },
     "metadata": {
      "tags": []
     },
     "output_type": "display_data"
    }
   ],
   "source": [
    "plt.plot(n_range, cl_gbc_gs.cv_results_['mean_test_score'])"
   ]
  },
  {
   "cell_type": "markdown",
   "metadata": {
    "colab_type": "text",
    "id": "xkrsDVRfwyLe"
   },
   "source": [
    "## Сравнение модели с произвольным и лучшим параметром K"
   ]
  },
  {
   "cell_type": "code",
   "execution_count": 56,
   "metadata": {
    "colab": {
     "base_uri": "https://localhost:8080/",
     "height": 36
    },
    "colab_type": "code",
    "executionInfo": {
     "elapsed": 3391,
     "status": "ok",
     "timestamp": 1556742213466,
     "user": {
      "displayName": "Никита Тодосиев",
      "photoUrl": "",
      "userId": "15188032349092888776"
     },
     "user_tz": -180
    },
    "id": "-BZpSiSDw_xV",
    "outputId": "f53649d4-d1ea-4f69-8901-37e997aaa56d"
   },
   "outputs": [
    {
     "name": "stdout",
     "output_type": "stream",
     "text": [
      "Отклонение на тренируемой выборке: 0.071 отклонение на тестовой выборке: 0.622\n"
     ]
    }
   ],
   "source": [
    "rfr2 = Classifier(RandomForestClassifier(max_features=6), data_X_train, \n",
    "                    data_y_train, data_X_test, data_y_test)\n",
    "rfr2.training()\n",
    "rfr2.result(mean_squared_error)"
   ]
  },
  {
   "cell_type": "code",
   "execution_count": 59,
   "metadata": {
    "colab": {
     "base_uri": "https://localhost:8080/",
     "height": 36
    },
    "colab_type": "code",
    "executionInfo": {
     "elapsed": 44933,
     "status": "ok",
     "timestamp": 1556742346782,
     "user": {
      "displayName": "Никита Тодосиев",
      "photoUrl": "",
      "userId": "15188032349092888776"
     },
     "user_tz": -180
    },
    "id": "kq11BlDWH55h",
    "outputId": "595ca722-b377-442d-91f5-353032da937b"
   },
   "outputs": [
    {
     "name": "stdout",
     "output_type": "stream",
     "text": [
      "Отклонение на тренируемой выборке: 0.062 отклонение на тестовой выборке: 0.635\n"
     ]
    }
   ],
   "source": [
    "rfr.result(mean_squared_error)"
   ]
  },
  {
   "cell_type": "code",
   "execution_count": 50,
   "metadata": {
    "colab": {
     "base_uri": "https://localhost:8080/",
     "height": 36
    },
    "colab_type": "code",
    "executionInfo": {
     "elapsed": 82057,
     "status": "ok",
     "timestamp": 1556742083573,
     "user": {
      "displayName": "Никита Тодосиев",
      "photoUrl": "",
      "userId": "15188032349092888776"
     },
     "user_tz": -180
    },
    "id": "nIy0oFQGxfxV",
    "outputId": "5bfb55e6-1f68-497b-bbf1-0608272117ef"
   },
   "outputs": [
    {
     "name": "stdout",
     "output_type": "stream",
     "text": [
      "Отклонение на тренируемой выборке: 0.607 отклонение на тестовой выборке: 0.650\n"
     ]
    }
   ],
   "source": [
    "gbc2 = Classifier(GradientBoostingClassifier(max_features=8), data_X_train, \n",
    "                    data_y_train, data_X_test, data_y_test)\n",
    "gbc2.training()\n",
    "gbc2.result(mean_squared_error)"
   ]
  },
  {
   "cell_type": "code",
   "execution_count": 60,
   "metadata": {
    "colab": {
     "base_uri": "https://localhost:8080/",
     "height": 36
    },
    "colab_type": "code",
    "executionInfo": {
     "elapsed": 43502,
     "status": "ok",
     "timestamp": 1556742346789,
     "user": {
      "displayName": "Никита Тодосиев",
      "photoUrl": "",
      "userId": "15188032349092888776"
     },
     "user_tz": -180
    },
    "id": "zKAm8IymILGF",
    "outputId": "c6128946-e01b-41c5-fd0c-399e8a3b9188"
   },
   "outputs": [
    {
     "name": "stdout",
     "output_type": "stream",
     "text": [
      "Отклонение на тренируемой выборке: 0.689 отклонение на тестовой выборке: 0.701\n"
     ]
    }
   ],
   "source": [
    "gbc.result(mean_squared_error)"
   ]
  },
  {
   "cell_type": "markdown",
   "metadata": {
    "colab_type": "text",
    "id": "sWsztEaPJDcz"
   },
   "source": [
    "Как можно заметить, для классификатора градиентного спуска правильный подбор гиперпараметра существеннее исправил ошибку. Однако по итогу отклонение на тестовой выборке несущественно отличается.\n",
    "\n"
   ]
  }
 ],
 "metadata": {
  "accelerator": "GPU",
  "colab": {
   "collapsed_sections": [],
   "name": "mlcourse_lab6.ipynb",
   "provenance": [
    {
     "file_id": "1rRUMy3gLHySbw5CqmVokyIXUIXkS44VR",
     "timestamp": 1556726840008
    },
    {
     "file_id": "19DfKXDFM246pj3rpA_uKYueqiRc6aEdP",
     "timestamp": 1555507802542
    },
    {
     "file_id": "1x-ap_JCL--ObWX_dpCIPZ-sVND1fFBow",
     "timestamp": 1554900821786
    }
   ],
   "toc_visible": true,
   "version": "0.3.2"
  },
  "kernelspec": {
   "display_name": "Python 3",
   "language": "python",
   "name": "python3"
  },
  "lab_number": 6,
  "title": "Ансамбли моделей машинного обучения"
 },
 "nbformat": 4,
 "nbformat_minor": 1
}
