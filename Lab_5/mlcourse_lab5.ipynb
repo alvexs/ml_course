{
 "cells": [
  {
   "cell_type": "markdown",
   "metadata": {
    "colab_type": "text",
    "id": "_J1mdLAGkrDr"
   },
   "source": [
    "# Описание задания\n",
    "\n",
    "**Цель лабораторной работы:** изучение линейных моделей, SVM и деревьев решений.\n",
    "\n"
   ]
  },
  {
   "cell_type": "markdown",
   "metadata": {
    "colab_type": "text",
    "id": "RUx_nmkunIGt"
   },
   "source": [
    "# Задание\n",
    "\n",
    "1.\tВыберите набор данных (датасет) для решения задачи классификации или регресии.\n",
    "2.\tВ случае необходимости проведите удаление или заполнение пропусков и кодирование категориальных признаков.\n",
    "3.\tС использованием метода train_test_split разделите выборку на обучающую и тестовую.\n",
    "4.\tОбучите 1) одну из линейных моделей, 2) SVM и 3) дерево решений. Оцените качество моделей с помощью трех подходящих для задачи метрик. Сравните качество полученных моделей.\n",
    "5.\tПроизведите для каждой модели подбор одного гиперпараметра с использованием GridSearchCV и кросс-валидации.\n",
    "6.\tПовторите пункт 4 для найденных оптимальных значений гиперпараметров. Сравните качество полученных моделей с качеством моделей, полученных в пункте 4.\n",
    "\n",
    "\n",
    "\n",
    "\n",
    "\n"
   ]
  },
  {
   "cell_type": "markdown",
   "metadata": {
    "colab_type": "text",
    "id": "S0bNNLBmixrT"
   },
   "source": [
    "# Ход выполнения лабораторной работы"
   ]
  },
  {
   "cell_type": "markdown",
   "metadata": {
    "colab_type": "text",
    "id": "NwuFbNy1U533"
   },
   "source": [
    "## Выбор датасета"
   ]
  },
  {
   "cell_type": "markdown",
   "metadata": {
    "colab_type": "text",
    "id": "tzTGkYOfVFEC"
   },
   "source": [
    "В качестве исходных данных выбираем датасет о террористических атаках. Он содержит около 180 тысячи записей, а также имеет разные столбцы с категориальными данными. Такой датасет может подходить для обучения методом ближайших соседей.\n",
    "\n",
    "В качестве задачи поставим определение вида атаки по остальным колонкам."
   ]
  },
  {
   "cell_type": "markdown",
   "metadata": {
    "colab_type": "text",
    "id": "hTnRyh29mk-N"
   },
   "source": [
    "## Проверка и удаление пропусков"
   ]
  },
  {
   "cell_type": "code",
   "execution_count": 0,
   "metadata": {
    "colab": {},
    "colab_type": "code",
    "id": "WgO4R5CT6bXD"
   },
   "outputs": [],
   "source": [
    "import warnings\n",
    "warnings.filterwarnings('ignore')"
   ]
  },
  {
   "cell_type": "code",
   "execution_count": 2,
   "metadata": {
    "colab": {
     "base_uri": "https://localhost:8080/",
     "height": 56
    },
    "colab_type": "code",
    "executionInfo": {
     "elapsed": 1466,
     "status": "ok",
     "timestamp": 1556722850190,
     "user": {
      "displayName": "Никита Тодосиев",
      "photoUrl": "",
      "userId": "15188032349092888776"
     },
     "user_tz": -180
    },
    "id": "XdSpUnSrq8p9",
    "outputId": "f0b8a488-e145-43b3-a225-e0dadb28f9dc"
   },
   "outputs": [
    {
     "name": "stdout",
     "output_type": "stream",
     "text": [
      "Drive already mounted at /content/drive; to attempt to forcibly remount, call drive.mount(\"/content/drive\", force_remount=True).\n"
     ]
    }
   ],
   "source": [
    "from google.colab import drive, files\n",
    "drive.mount('/content/drive')"
   ]
  },
  {
   "cell_type": "code",
   "execution_count": 0,
   "metadata": {
    "colab": {},
    "colab_type": "code",
    "id": "dqR3UISf9mXT"
   },
   "outputs": [],
   "source": [
    "from google.colab import files\n",
    "import os\n",
    "import numpy as np\n",
    "import pandas as pd\n",
    "import seaborn as sns\n",
    "import matplotlib.pyplot as plt\n",
    "%matplotlib inline \n",
    "os.listdir()\n",
    "data = pd.read_csv('drive/My Drive/Files/globalterrorismdb_0718dist.csv',\n",
    "                   sep=\",\", encoding=\"iso-8859-1\")"
   ]
  },
  {
   "cell_type": "markdown",
   "metadata": {
    "colab_type": "text",
    "id": "U5OSTknYbDWh"
   },
   "source": [
    "Количество пустых колонок огромно, поэтому сначала удалим все столбцы, у которых количество заполненных значений менее 150000 (примерно 5/6 от всего датасета), а затем удалим строки с пустым значением."
   ]
  },
  {
   "cell_type": "code",
   "execution_count": 4,
   "metadata": {
    "colab": {
     "base_uri": "https://localhost:8080/",
     "height": 36
    },
    "colab_type": "code",
    "executionInfo": {
     "elapsed": 7294,
     "status": "ok",
     "timestamp": 1556722856162,
     "user": {
      "displayName": "Никита Тодосиев",
      "photoUrl": "",
      "userId": "15188032349092888776"
     },
     "user_tz": -180
    },
    "id": "FrgPzizwbMli",
    "outputId": "b22bd2fc-4e77-4cda-99bc-6c96e6eb21ff"
   },
   "outputs": [
    {
     "data": {
      "text/plain": [
       "((181691, 135), (181691, 47))"
      ]
     },
     "execution_count": 4,
     "metadata": {
      "tags": []
     },
     "output_type": "execute_result"
    }
   ],
   "source": [
    "# Удаление колонок, содержащих пустые значения\n",
    "data_temp_1 = data.dropna(axis=1, how='any', thresh=150000)\n",
    "(data.shape, data_temp_1.shape)"
   ]
  },
  {
   "cell_type": "code",
   "execution_count": 5,
   "metadata": {
    "colab": {
     "base_uri": "https://localhost:8080/",
     "height": 36
    },
    "colab_type": "code",
    "executionInfo": {
     "elapsed": 7487,
     "status": "ok",
     "timestamp": 1556722856411,
     "user": {
      "displayName": "Никита Тодосиев",
      "photoUrl": "",
      "userId": "15188032349092888776"
     },
     "user_tz": -180
    },
    "id": "O8n_V4jQZqpH",
    "outputId": "7a3affcc-4007-4b66-8bb5-1eafb5e6dc0b"
   },
   "outputs": [
    {
     "data": {
      "text/plain": [
       "((181691, 47), (134042, 47))"
      ]
     },
     "execution_count": 5,
     "metadata": {
      "tags": []
     },
     "output_type": "execute_result"
    }
   ],
   "source": [
    "data_new_1 = data_temp_1.dropna(axis=0, how='any')\n",
    "(data_temp_1.shape, data_new_1.shape)"
   ]
  },
  {
   "cell_type": "code",
   "execution_count": 6,
   "metadata": {
    "colab": {
     "base_uri": "https://localhost:8080/",
     "height": 342
    },
    "colab_type": "code",
    "executionInfo": {
     "elapsed": 7411,
     "status": "ok",
     "timestamp": 1556722856418,
     "user": {
      "displayName": "Никита Тодосиев",
      "photoUrl": "",
      "userId": "15188032349092888776"
     },
     "user_tz": -180
    },
    "id": "QTDfSrxBYJ9I",
    "outputId": "19e03099-143e-4ca8-c291-c99cb9bde6bc"
   },
   "outputs": [
    {
     "data": {
      "text/html": [
       "<div>\n",
       "<style scoped>\n",
       "    .dataframe tbody tr th:only-of-type {\n",
       "        vertical-align: middle;\n",
       "    }\n",
       "\n",
       "    .dataframe tbody tr th {\n",
       "        vertical-align: top;\n",
       "    }\n",
       "\n",
       "    .dataframe thead th {\n",
       "        text-align: right;\n",
       "    }\n",
       "</style>\n",
       "<table border=\"1\" class=\"dataframe\">\n",
       "  <thead>\n",
       "    <tr style=\"text-align: right;\">\n",
       "      <th></th>\n",
       "      <th>eventid</th>\n",
       "      <th>iyear</th>\n",
       "      <th>imonth</th>\n",
       "      <th>iday</th>\n",
       "      <th>extended</th>\n",
       "      <th>country</th>\n",
       "      <th>country_txt</th>\n",
       "      <th>region</th>\n",
       "      <th>region_txt</th>\n",
       "      <th>provstate</th>\n",
       "      <th>...</th>\n",
       "      <th>weapsubtype1_txt</th>\n",
       "      <th>nkill</th>\n",
       "      <th>nwound</th>\n",
       "      <th>property</th>\n",
       "      <th>ishostkid</th>\n",
       "      <th>dbsource</th>\n",
       "      <th>INT_LOG</th>\n",
       "      <th>INT_IDEO</th>\n",
       "      <th>INT_MISC</th>\n",
       "      <th>INT_ANY</th>\n",
       "    </tr>\n",
       "  </thead>\n",
       "  <tbody>\n",
       "    <tr>\n",
       "      <th>5</th>\n",
       "      <td>197001010002</td>\n",
       "      <td>1970</td>\n",
       "      <td>1</td>\n",
       "      <td>1</td>\n",
       "      <td>0</td>\n",
       "      <td>217</td>\n",
       "      <td>United States</td>\n",
       "      <td>1</td>\n",
       "      <td>North America</td>\n",
       "      <td>Illinois</td>\n",
       "      <td>...</td>\n",
       "      <td>Unknown Gun Type</td>\n",
       "      <td>0.0</td>\n",
       "      <td>0.0</td>\n",
       "      <td>1</td>\n",
       "      <td>0.0</td>\n",
       "      <td>Hewitt Project</td>\n",
       "      <td>-9</td>\n",
       "      <td>-9</td>\n",
       "      <td>0</td>\n",
       "      <td>-9</td>\n",
       "    </tr>\n",
       "    <tr>\n",
       "      <th>6</th>\n",
       "      <td>197001020001</td>\n",
       "      <td>1970</td>\n",
       "      <td>1</td>\n",
       "      <td>2</td>\n",
       "      <td>0</td>\n",
       "      <td>218</td>\n",
       "      <td>Uruguay</td>\n",
       "      <td>3</td>\n",
       "      <td>South America</td>\n",
       "      <td>Montevideo</td>\n",
       "      <td>...</td>\n",
       "      <td>Automatic or Semi-Automatic Rifle</td>\n",
       "      <td>0.0</td>\n",
       "      <td>0.0</td>\n",
       "      <td>0</td>\n",
       "      <td>0.0</td>\n",
       "      <td>PGIS</td>\n",
       "      <td>0</td>\n",
       "      <td>0</td>\n",
       "      <td>0</td>\n",
       "      <td>0</td>\n",
       "    </tr>\n",
       "    <tr>\n",
       "      <th>7</th>\n",
       "      <td>197001020002</td>\n",
       "      <td>1970</td>\n",
       "      <td>1</td>\n",
       "      <td>2</td>\n",
       "      <td>0</td>\n",
       "      <td>217</td>\n",
       "      <td>United States</td>\n",
       "      <td>1</td>\n",
       "      <td>North America</td>\n",
       "      <td>California</td>\n",
       "      <td>...</td>\n",
       "      <td>Unknown Explosive Type</td>\n",
       "      <td>0.0</td>\n",
       "      <td>0.0</td>\n",
       "      <td>1</td>\n",
       "      <td>0.0</td>\n",
       "      <td>Hewitt Project</td>\n",
       "      <td>-9</td>\n",
       "      <td>-9</td>\n",
       "      <td>0</td>\n",
       "      <td>-9</td>\n",
       "    </tr>\n",
       "    <tr>\n",
       "      <th>8</th>\n",
       "      <td>197001020003</td>\n",
       "      <td>1970</td>\n",
       "      <td>1</td>\n",
       "      <td>2</td>\n",
       "      <td>0</td>\n",
       "      <td>217</td>\n",
       "      <td>United States</td>\n",
       "      <td>1</td>\n",
       "      <td>North America</td>\n",
       "      <td>Wisconsin</td>\n",
       "      <td>...</td>\n",
       "      <td>Molotov Cocktail/Petrol Bomb</td>\n",
       "      <td>0.0</td>\n",
       "      <td>0.0</td>\n",
       "      <td>1</td>\n",
       "      <td>0.0</td>\n",
       "      <td>Hewitt Project</td>\n",
       "      <td>0</td>\n",
       "      <td>0</td>\n",
       "      <td>0</td>\n",
       "      <td>0</td>\n",
       "    </tr>\n",
       "    <tr>\n",
       "      <th>9</th>\n",
       "      <td>197001030001</td>\n",
       "      <td>1970</td>\n",
       "      <td>1</td>\n",
       "      <td>3</td>\n",
       "      <td>0</td>\n",
       "      <td>217</td>\n",
       "      <td>United States</td>\n",
       "      <td>1</td>\n",
       "      <td>North America</td>\n",
       "      <td>Wisconsin</td>\n",
       "      <td>...</td>\n",
       "      <td>Gasoline or Alcohol</td>\n",
       "      <td>0.0</td>\n",
       "      <td>0.0</td>\n",
       "      <td>1</td>\n",
       "      <td>0.0</td>\n",
       "      <td>Hewitt Project</td>\n",
       "      <td>0</td>\n",
       "      <td>0</td>\n",
       "      <td>0</td>\n",
       "      <td>0</td>\n",
       "    </tr>\n",
       "  </tbody>\n",
       "</table>\n",
       "<p>5 rows × 47 columns</p>\n",
       "</div>"
      ],
      "text/plain": [
       "        eventid  iyear  imonth  iday  extended  country    country_txt  \\\n",
       "5  197001010002   1970       1     1         0      217  United States   \n",
       "6  197001020001   1970       1     2         0      218        Uruguay   \n",
       "7  197001020002   1970       1     2         0      217  United States   \n",
       "8  197001020003   1970       1     2         0      217  United States   \n",
       "9  197001030001   1970       1     3         0      217  United States   \n",
       "\n",
       "   region     region_txt   provstate  ...                   weapsubtype1_txt  \\\n",
       "5       1  North America    Illinois  ...                   Unknown Gun Type   \n",
       "6       3  South America  Montevideo  ...  Automatic or Semi-Automatic Rifle   \n",
       "7       1  North America  California  ...             Unknown Explosive Type   \n",
       "8       1  North America   Wisconsin  ...       Molotov Cocktail/Petrol Bomb   \n",
       "9       1  North America   Wisconsin  ...                Gasoline or Alcohol   \n",
       "\n",
       "   nkill  nwound  property  ishostkid        dbsource  INT_LOG  INT_IDEO  \\\n",
       "5    0.0     0.0         1        0.0  Hewitt Project       -9        -9   \n",
       "6    0.0     0.0         0        0.0            PGIS        0         0   \n",
       "7    0.0     0.0         1        0.0  Hewitt Project       -9        -9   \n",
       "8    0.0     0.0         1        0.0  Hewitt Project        0         0   \n",
       "9    0.0     0.0         1        0.0  Hewitt Project        0         0   \n",
       "\n",
       "   INT_MISC  INT_ANY  \n",
       "5         0       -9  \n",
       "6         0        0  \n",
       "7         0       -9  \n",
       "8         0        0  \n",
       "9         0        0  \n",
       "\n",
       "[5 rows x 47 columns]"
      ]
     },
     "execution_count": 6,
     "metadata": {
      "tags": []
     },
     "output_type": "execute_result"
    }
   ],
   "source": [
    "data_new_1.head()"
   ]
  },
  {
   "cell_type": "code",
   "execution_count": 7,
   "metadata": {
    "colab": {
     "base_uri": "https://localhost:8080/",
     "height": 36
    },
    "colab_type": "code",
    "executionInfo": {
     "elapsed": 7317,
     "status": "ok",
     "timestamp": 1556722856423,
     "user": {
      "displayName": "Никита Тодосиев",
      "photoUrl": "",
      "userId": "15188032349092888776"
     },
     "user_tz": -180
    },
    "id": "eMP9IQ2HbgSP",
    "outputId": "ed2adb38-f9e6-4bc9-d1ac-df43bdca7e48"
   },
   "outputs": [
    {
     "data": {
      "text/plain": [
       "(134042, 28)"
      ]
     },
     "execution_count": 7,
     "metadata": {
      "tags": []
     },
     "output_type": "execute_result"
    }
   ],
   "source": [
    "data2 = data_new_1.drop([\"provstate\", \"eventid\",\n",
    "                 \"dbsource\", \"INT_LOG\", \"INT_IDEO\", \"INT_MISC\",\n",
    "                 \"INT_ANY\", \"individual\", \"weapsubtype1\",\n",
    "                 \"weapsubtype1_txt\", \"property\", \"vicinity\", \"crit2\",\n",
    "                 \"crit3\", \"natlty1\", \"iday\", \"imonth\", \"iyear\",\n",
    "                 \"extended\"], axis=1)\n",
    "data2.shape"
   ]
  },
  {
   "cell_type": "markdown",
   "metadata": {
    "colab_type": "text",
    "id": "zW-RGAmPbB9S"
   },
   "source": [
    "## train_test_split\n",
    "\n"
   ]
  },
  {
   "cell_type": "code",
   "execution_count": 0,
   "metadata": {
    "colab": {},
    "colab_type": "code",
    "id": "7QA_avK2bf8o"
   },
   "outputs": [],
   "source": [
    "from sklearn.model_selection import train_test_split\n",
    "attacktype = data2[\"attacktype1\"]\n",
    "data3 = data2.drop([\"attacktype1\"], axis=1)\n",
    "for col in data3.columns:\n",
    "  dt = str(data[col].dtype)\n",
    "  if not (dt=='float64' or dt=='int64'):\n",
    "    data3 = data3.drop([col], axis=1)\n",
    "data_X_train, data_X_test, data_y_train, data_y_test = train_test_split(\n",
    "    data3, attacktype, test_size=0.2, random_state=1)"
   ]
  },
  {
   "cell_type": "markdown",
   "metadata": {
    "colab_type": "text",
    "id": "pNsi438lGsxT"
   },
   "source": [
    "## Обучение "
   ]
  },
  {
   "cell_type": "code",
   "execution_count": 0,
   "metadata": {
    "colab": {},
    "colab_type": "code",
    "id": "k2gVmrR02jFW"
   },
   "outputs": [],
   "source": [
    "from sklearn.linear_model import SGDClassifier\n",
    "from sklearn.svm import LinearSVC\n",
    "from sklearn.tree import DecisionTreeClassifier\n",
    "\n",
    "from sklearn.metrics import accuracy_score\n",
    "from sklearn.metrics import balanced_accuracy_score\n",
    "from sklearn.metrics import cohen_kappa_score"
   ]
  },
  {
   "cell_type": "code",
   "execution_count": 0,
   "metadata": {
    "colab": {},
    "colab_type": "code",
    "id": "CWlSoRKc22bD"
   },
   "outputs": [],
   "source": [
    "template = \"Значение на тренируемой выборке: {:.2%} \\\n",
    "значение на тестовой выборке: {:.2%}\""
   ]
  },
  {
   "cell_type": "code",
   "execution_count": 0,
   "metadata": {
    "colab": {},
    "colab_type": "code",
    "id": "A1ophd9S8sok"
   },
   "outputs": [],
   "source": [
    "class Classifier():\n",
    "  def __init__(self, method, x_train, y_train, x_test, y_test):\n",
    "    self._method = method\n",
    "    self.x_train = x_train\n",
    "    self.y_train = y_train\n",
    "    self.x_test = x_test\n",
    "    self.y_test = y_test\n",
    "    self.target_1 = []\n",
    "    self.target_2 = []\n",
    "   \n",
    "  def training(self):\n",
    "    self._method.fit(self.x_train, self.y_train)\n",
    "    self.target_1 = self._method.predict(self.x_train)\n",
    "    self.target_2 = self._method.predict(self.x_test)\n",
    "    \n",
    "  def result(self, metric):\n",
    "    print(template.format(metric(self.y_train, self.target_1), \n",
    "                      metric(self.y_test, self.target_2)))\n",
    "    "
   ]
  },
  {
   "cell_type": "markdown",
   "metadata": {
    "colab_type": "text",
    "id": "8T3VCP9Dr48T"
   },
   "source": [
    "### Линейные модели"
   ]
  },
  {
   "cell_type": "code",
   "execution_count": 13,
   "metadata": {
    "colab": {
     "base_uri": "https://localhost:8080/",
     "height": 36
    },
    "colab_type": "code",
    "executionInfo": {
     "elapsed": 8425,
     "status": "ok",
     "timestamp": 1556722857797,
     "user": {
      "displayName": "Никита Тодосиев",
      "photoUrl": "",
      "userId": "15188032349092888776"
     },
     "user_tz": -180
    },
    "id": "Fn5F1Qqs7D5M",
    "outputId": "57edb65f-adad-43fb-cf31-31ee104a8c4d"
   },
   "outputs": [
    {
     "name": "stdout",
     "output_type": "stream",
     "text": [
      "Значение на тренируемой выборке: 51.19% значение на тестовой выборке: 51.15%\n"
     ]
    }
   ],
   "source": [
    "linear = Classifier(SGDClassifier(), data_X_train, \n",
    "                    data_y_train, data_X_test, data_y_test)\n",
    "linear.training()\n",
    "linear.result(accuracy_score)"
   ]
  },
  {
   "cell_type": "code",
   "execution_count": 14,
   "metadata": {
    "colab": {
     "base_uri": "https://localhost:8080/",
     "height": 36
    },
    "colab_type": "code",
    "executionInfo": {
     "elapsed": 8402,
     "status": "ok",
     "timestamp": 1556722857804,
     "user": {
      "displayName": "Никита Тодосиев",
      "photoUrl": "",
      "userId": "15188032349092888776"
     },
     "user_tz": -180
    },
    "id": "Rtb1Gr2vAjMe",
    "outputId": "34db7aa5-55fc-4b30-8104-399b7b0c6c13"
   },
   "outputs": [
    {
     "name": "stdout",
     "output_type": "stream",
     "text": [
      "Значение на тренируемой выборке: 19.19% значение на тестовой выборке: 18.80%\n"
     ]
    }
   ],
   "source": [
    "linear.result(balanced_accuracy_score)"
   ]
  },
  {
   "cell_type": "code",
   "execution_count": 15,
   "metadata": {
    "colab": {
     "base_uri": "https://localhost:8080/",
     "height": 36
    },
    "colab_type": "code",
    "executionInfo": {
     "elapsed": 8376,
     "status": "ok",
     "timestamp": 1556722857807,
     "user": {
      "displayName": "Никита Тодосиев",
      "photoUrl": "",
      "userId": "15188032349092888776"
     },
     "user_tz": -180
    },
    "id": "Q5tdp5hwBN9t",
    "outputId": "a514b979-eaba-4930-ee3c-fe971ec93b69"
   },
   "outputs": [
    {
     "name": "stdout",
     "output_type": "stream",
     "text": [
      "Значение на тренируемой выборке: 22.71% значение на тестовой выборке: 22.90%\n"
     ]
    }
   ],
   "source": [
    "linear.result(cohen_kappa_score)"
   ]
  },
  {
   "cell_type": "markdown",
   "metadata": {
    "colab_type": "text",
    "id": "14EEpO1X6-kQ"
   },
   "source": [
    "### SVM\n"
   ]
  },
  {
   "cell_type": "code",
   "execution_count": 16,
   "metadata": {
    "colab": {
     "base_uri": "https://localhost:8080/",
     "height": 93
    },
    "colab_type": "code",
    "executionInfo": {
     "elapsed": 173218,
     "status": "ok",
     "timestamp": 1556723022679,
     "user": {
      "displayName": "Никита Тодосиев",
      "photoUrl": "",
      "userId": "15188032349092888776"
     },
     "user_tz": -180
    },
    "id": "Llr2x-TA-cd4",
    "outputId": "3db5e0e1-cbc6-4827-ffba-86c15aba8f7e"
   },
   "outputs": [
    {
     "name": "stdout",
     "output_type": "stream",
     "text": [
      "Значение на тренируемой выборке: 53.30% значение на тестовой выборке: 53.37%\n"
     ]
    },
    {
     "name": "stderr",
     "output_type": "stream",
     "text": [
      "/usr/local/lib/python3.6/dist-packages/sklearn/svm/base.py:931: ConvergenceWarning: Liblinear failed to converge, increase the number of iterations.\n",
      "  \"the number of iterations.\", ConvergenceWarning)\n"
     ]
    }
   ],
   "source": [
    "svm = Classifier(LinearSVC(C=1.0), data_X_train, \n",
    "                    data_y_train, data_X_test, data_y_test)\n",
    "svm.training()\n",
    "svm.result(accuracy_score)"
   ]
  },
  {
   "cell_type": "code",
   "execution_count": 17,
   "metadata": {
    "colab": {
     "base_uri": "https://localhost:8080/",
     "height": 36
    },
    "colab_type": "code",
    "executionInfo": {
     "elapsed": 173216,
     "status": "ok",
     "timestamp": 1556723022695,
     "user": {
      "displayName": "Никита Тодосиев",
      "photoUrl": "",
      "userId": "15188032349092888776"
     },
     "user_tz": -180
    },
    "id": "STRZ8wlZ7IHK",
    "outputId": "6e0cb771-ab8a-4769-9650-6ed353b9416c"
   },
   "outputs": [
    {
     "name": "stdout",
     "output_type": "stream",
     "text": [
      "Значение на тренируемой выборке: 30.71% значение на тестовой выборке: 30.74%\n"
     ]
    }
   ],
   "source": [
    "svm.result(balanced_accuracy_score)"
   ]
  },
  {
   "cell_type": "code",
   "execution_count": 18,
   "metadata": {
    "colab": {
     "base_uri": "https://localhost:8080/",
     "height": 36
    },
    "colab_type": "code",
    "executionInfo": {
     "elapsed": 173429,
     "status": "ok",
     "timestamp": 1556723022924,
     "user": {
      "displayName": "Никита Тодосиев",
      "photoUrl": "",
      "userId": "15188032349092888776"
     },
     "user_tz": -180
    },
    "id": "vSdjtetE8FcP",
    "outputId": "4ea61bd3-6c30-4257-c794-c4accc9bd6d7"
   },
   "outputs": [
    {
     "name": "stdout",
     "output_type": "stream",
     "text": [
      "Значение на тренируемой выборке: 31.82% значение на тестовой выборке: 32.09%\n"
     ]
    }
   ],
   "source": [
    "svm.result(cohen_kappa_score)"
   ]
  },
  {
   "cell_type": "markdown",
   "metadata": {
    "colab_type": "text",
    "id": "Cz2L5Nhg8KMR"
   },
   "source": [
    "### Дерево решений"
   ]
  },
  {
   "cell_type": "code",
   "execution_count": 19,
   "metadata": {
    "colab": {
     "base_uri": "https://localhost:8080/",
     "height": 36
    },
    "colab_type": "code",
    "executionInfo": {
     "elapsed": 174401,
     "status": "ok",
     "timestamp": 1556723023908,
     "user": {
      "displayName": "Никита Тодосиев",
      "photoUrl": "",
      "userId": "15188032349092888776"
     },
     "user_tz": -180
    },
    "id": "b0TXrNP98hVv",
    "outputId": "b7b786f2-0869-44b6-8870-08e656ae1091"
   },
   "outputs": [
    {
     "name": "stdout",
     "output_type": "stream",
     "text": [
      "Значение на тренируемой выборке: 99.00% значение на тестовой выборке: 86.69%\n"
     ]
    }
   ],
   "source": [
    "tree = Classifier(DecisionTreeClassifier(random_state=1), data_X_train, \n",
    "                    data_y_train, data_X_test, data_y_test)\n",
    "tree.training()\n",
    "tree.result(accuracy_score)"
   ]
  },
  {
   "cell_type": "code",
   "execution_count": 20,
   "metadata": {
    "colab": {
     "base_uri": "https://localhost:8080/",
     "height": 36
    },
    "colab_type": "code",
    "executionInfo": {
     "elapsed": 174384,
     "status": "ok",
     "timestamp": 1556723023913,
     "user": {
      "displayName": "Никита Тодосиев",
      "photoUrl": "",
      "userId": "15188032349092888776"
     },
     "user_tz": -180
    },
    "id": "FVx4Mr4sBwXR",
    "outputId": "034e8cbe-57e2-41b6-82ce-dd3be0786555"
   },
   "outputs": [
    {
     "name": "stdout",
     "output_type": "stream",
     "text": [
      "Значение на тренируемой выборке: 98.82% значение на тестовой выборке: 59.79%\n"
     ]
    }
   ],
   "source": [
    "tree.result(balanced_accuracy_score)"
   ]
  },
  {
   "cell_type": "code",
   "execution_count": 21,
   "metadata": {
    "colab": {
     "base_uri": "https://localhost:8080/",
     "height": 36
    },
    "colab_type": "code",
    "executionInfo": {
     "elapsed": 174579,
     "status": "ok",
     "timestamp": 1556723024127,
     "user": {
      "displayName": "Никита Тодосиев",
      "photoUrl": "",
      "userId": "15188032349092888776"
     },
     "user_tz": -180
    },
    "id": "H1zIKHtTBwUL",
    "outputId": "af7d1d3e-8cbd-45a2-80eb-4a216dc85a38"
   },
   "outputs": [
    {
     "name": "stdout",
     "output_type": "stream",
     "text": [
      "Значение на тренируемой выборке: 98.40% значение на тестовой выборке: 78.74%\n"
     ]
    }
   ],
   "source": [
    "tree.result(cohen_kappa_score)"
   ]
  },
  {
   "cell_type": "markdown",
   "metadata": {
    "colab_type": "text",
    "id": "WLuFiC0iGgEj"
   },
   "source": [
    "Видно, что из-за большого числа столбцов лучшим способом становится дерево решений при стандартных гиперпараметрах.\n"
   ]
  },
  {
   "cell_type": "markdown",
   "metadata": {
    "colab_type": "text",
    "id": "BxuuNxzaJxdI"
   },
   "source": [
    "## Подбор гиперпараметра K с использованием GridSearchCV и кросс-валидации"
   ]
  },
  {
   "cell_type": "markdown",
   "metadata": {
    "colab_type": "text",
    "id": "orCsTHaH1_64"
   },
   "source": [
    "### Линейные модели"
   ]
  },
  {
   "cell_type": "code",
   "execution_count": 22,
   "metadata": {
    "colab": {
     "base_uri": "https://localhost:8080/",
     "height": 36
    },
    "colab_type": "code",
    "executionInfo": {
     "elapsed": 174566,
     "status": "ok",
     "timestamp": 1556723024130,
     "user": {
      "displayName": "Никита Тодосиев",
      "photoUrl": "",
      "userId": "15188032349092888776"
     },
     "user_tz": -180
    },
    "id": "UIkLa0qDa3YV",
    "outputId": "1ae69da2-12b0-4a2c-9d70-478581a6e7a3"
   },
   "outputs": [
    {
     "data": {
      "text/plain": [
       "[{'l1_ratio': array([0.05, 0.15, 0.25, 0.35, 0.45, 0.55, 0.65, 0.75, 0.85])}]"
      ]
     },
     "execution_count": 22,
     "metadata": {
      "tags": []
     },
     "output_type": "execute_result"
    }
   ],
   "source": [
    "n_range = np.array(range(5,95,10))\n",
    "n_range = n_range / 100\n",
    "tuned_parameters = [{'l1_ratio': n_range}]\n",
    "tuned_parameters"
   ]
  },
  {
   "cell_type": "code",
   "execution_count": 0,
   "metadata": {
    "colab": {},
    "colab_type": "code",
    "id": "tXs4b-6dbGFF"
   },
   "outputs": [],
   "source": [
    "from sklearn.model_selection import GridSearchCV\n",
    "\n",
    "cl_lin_gs = GridSearchCV(SGDClassifier(), tuned_parameters, cv=5,\n",
    "                      scoring='accuracy')\n",
    "cl_lin_gs.fit(data_X_train, data_y_train)"
   ]
  },
  {
   "cell_type": "code",
   "execution_count": 24,
   "metadata": {
    "colab": {
     "base_uri": "https://localhost:8080/",
     "height": 36
    },
    "colab_type": "code",
    "executionInfo": {
     "elapsed": 196269,
     "status": "ok",
     "timestamp": 1556723045865,
     "user": {
      "displayName": "Никита Тодосиев",
      "photoUrl": "",
      "userId": "15188032349092888776"
     },
     "user_tz": -180
    },
    "id": "bnEK7Ub2hll4",
    "outputId": "3be4cd48-bb5c-4ba2-bf02-d8b5cc9ad96e"
   },
   "outputs": [
    {
     "data": {
      "text/plain": [
       "{'l1_ratio': 0.45}"
      ]
     },
     "execution_count": 24,
     "metadata": {
      "tags": []
     },
     "output_type": "execute_result"
    }
   ],
   "source": [
    "cl_lin_gs.best_params_"
   ]
  },
  {
   "cell_type": "code",
   "execution_count": 25,
   "metadata": {
    "colab": {
     "base_uri": "https://localhost:8080/",
     "height": 288
    },
    "colab_type": "code",
    "executionInfo": {
     "elapsed": 196536,
     "status": "ok",
     "timestamp": 1556723046150,
     "user": {
      "displayName": "Никита Тодосиев",
      "photoUrl": "",
      "userId": "15188032349092888776"
     },
     "user_tz": -180
    },
    "id": "sEECbkXLhwfo",
    "outputId": "bc48e4ab-3a01-4a00-bda3-ce35c8c9bb86"
   },
   "outputs": [
    {
     "data": {
      "text/plain": [
       "[<matplotlib.lines.Line2D at 0x7f1087831898>]"
      ]
     },
     "execution_count": 25,
     "metadata": {
      "tags": []
     },
     "output_type": "execute_result"
    },
    {
     "data": {
      "image/png": "[encoded data removed]",
      "text/plain": [
       "<Figure size 432x288 with 1 Axes>"
      ]
     },
     "metadata": {
      "tags": []
     },
     "output_type": "display_data"
    }
   ],
   "source": [
    "plt.plot(n_range, cl_lin_gs.cv_results_['mean_test_score'])"
   ]
  },
  {
   "cell_type": "markdown",
   "metadata": {
    "colab_type": "text",
    "id": "4wJw8xRF4CzM"
   },
   "source": [
    "### SVM"
   ]
  },
  {
   "cell_type": "code",
   "execution_count": 31,
   "metadata": {
    "colab": {
     "base_uri": "https://localhost:8080/",
     "height": 36
    },
    "colab_type": "code",
    "executionInfo": {
     "elapsed": 601,
     "status": "ok",
     "timestamp": 1556724744482,
     "user": {
      "displayName": "Никита Тодосиев",
      "photoUrl": "",
      "userId": "15188032349092888776"
     },
     "user_tz": -180
    },
    "id": "cP1M_acg36QF",
    "outputId": "ab27f938-3bf5-41ad-a444-e4e9551b1b79"
   },
   "outputs": [
    {
     "data": {
      "text/plain": [
       "[{'C': array([1, 2, 3, 4])}]"
      ]
     },
     "execution_count": 31,
     "metadata": {
      "tags": []
     },
     "output_type": "execute_result"
    }
   ],
   "source": [
    "n_range = np.array(range(1,5,1))\n",
    "tuned_parameters = [{'C': n_range}]\n",
    "tuned_parameters"
   ]
  },
  {
   "cell_type": "code",
   "execution_count": 0,
   "metadata": {
    "colab": {},
    "colab_type": "code",
    "id": "lme5BUt-362d"
   },
   "outputs": [],
   "source": [
    "cl_svm_gs = GridSearchCV(LinearSVC(), tuned_parameters, cv=3,\n",
    "                      scoring='accuracy')\n",
    "cl_svm_gs.fit(data_X_train, data_y_train)"
   ]
  },
  {
   "cell_type": "code",
   "execution_count": 33,
   "metadata": {
    "colab": {
     "base_uri": "https://localhost:8080/",
     "height": 36
    },
    "colab_type": "code",
    "executionInfo": {
     "elapsed": 1119935,
     "status": "ok",
     "timestamp": 1556725882602,
     "user": {
      "displayName": "Никита Тодосиев",
      "photoUrl": "",
      "userId": "15188032349092888776"
     },
     "user_tz": -180
    },
    "id": "6Ji10jj436-X",
    "outputId": "7e6a49a7-3655-4a12-9fa9-132ce3a58725"
   },
   "outputs": [
    {
     "data": {
      "text/plain": [
       "{'C': 3}"
      ]
     },
     "execution_count": 33,
     "metadata": {
      "tags": []
     },
     "output_type": "execute_result"
    }
   ],
   "source": [
    "cl_svm_gs.best_params_"
   ]
  },
  {
   "cell_type": "code",
   "execution_count": 34,
   "metadata": {
    "colab": {
     "base_uri": "https://localhost:8080/",
     "height": 288
    },
    "colab_type": "code",
    "executionInfo": {
     "elapsed": 1119063,
     "status": "ok",
     "timestamp": 1556725882608,
     "user": {
      "displayName": "Никита Тодосиев",
      "photoUrl": "",
      "userId": "15188032349092888776"
     },
     "user_tz": -180
    },
    "id": "mzLQt5R037Ge",
    "outputId": "94d525f2-df1b-4e62-d747-0590c9b1f9b9"
   },
   "outputs": [
    {
     "data": {
      "text/plain": [
       "[<matplotlib.lines.Line2D at 0x7f108765c828>]"
      ]
     },
     "execution_count": 34,
     "metadata": {
      "tags": []
     },
     "output_type": "execute_result"
    },
    {
     "data": {
      "image/png": "[encoded data removed]",
      "text/plain": [
       "<Figure size 432x288 with 1 Axes>"
      ]
     },
     "metadata": {
      "tags": []
     },
     "output_type": "display_data"
    }
   ],
   "source": [
    "plt.plot(n_range, cl_svm_gs.cv_results_['mean_test_score'])"
   ]
  },
  {
   "cell_type": "markdown",
   "metadata": {
    "colab_type": "text",
    "id": "ivhsY71AJZvJ"
   },
   "source": [
    "### Дерево решений"
   ]
  },
  {
   "cell_type": "code",
   "execution_count": 35,
   "metadata": {
    "colab": {
     "base_uri": "https://localhost:8080/",
     "height": 36
    },
    "colab_type": "code",
    "executionInfo": {
     "elapsed": 567,
     "status": "ok",
     "timestamp": 1556726242417,
     "user": {
      "displayName": "Никита Тодосиев",
      "photoUrl": "",
      "userId": "15188032349092888776"
     },
     "user_tz": -180
    },
    "id": "Si-cDE4CD1In",
    "outputId": "36e63e0e-e47e-425d-d1b9-d9777b5b205c"
   },
   "outputs": [
    {
     "data": {
      "text/plain": [
       "[{'max_depth': array([ 3,  4,  5,  6,  7,  8,  9, 10, 11, 12, 13, 14])}]"
      ]
     },
     "execution_count": 35,
     "metadata": {
      "tags": []
     },
     "output_type": "execute_result"
    }
   ],
   "source": [
    "n_range = np.array(range(3,15,1))\n",
    "tuned_parameters = [{'max_depth': n_range}]\n",
    "tuned_parameters"
   ]
  },
  {
   "cell_type": "code",
   "execution_count": 0,
   "metadata": {
    "colab": {},
    "colab_type": "code",
    "id": "pL0BmdYDEF4U"
   },
   "outputs": [],
   "source": [
    "cl_tree_gs = GridSearchCV(DecisionTreeClassifier(random_state=1), tuned_parameters,\n",
    "                          cv=5, scoring='accuracy')\n",
    "cl_tree_gs.fit(data_X_train, data_y_train)"
   ]
  },
  {
   "cell_type": "code",
   "execution_count": 37,
   "metadata": {
    "colab": {
     "base_uri": "https://localhost:8080/",
     "height": 36
    },
    "colab_type": "code",
    "executionInfo": {
     "elapsed": 18492,
     "status": "ok",
     "timestamp": 1556726270654,
     "user": {
      "displayName": "Никита Тодосиев",
      "photoUrl": "",
      "userId": "15188032349092888776"
     },
     "user_tz": -180
    },
    "id": "NaTCLIUnES0Z",
    "outputId": "905bc057-6737-4df1-ea0f-01772f6ef5d5"
   },
   "outputs": [
    {
     "data": {
      "text/plain": [
       "{'max_depth': 12}"
      ]
     },
     "execution_count": 37,
     "metadata": {
      "tags": []
     },
     "output_type": "execute_result"
    }
   ],
   "source": [
    "cl_tree_gs.best_params_"
   ]
  },
  {
   "cell_type": "code",
   "execution_count": 38,
   "metadata": {
    "colab": {
     "base_uri": "https://localhost:8080/",
     "height": 288
    },
    "colab_type": "code",
    "executionInfo": {
     "elapsed": 16936,
     "status": "ok",
     "timestamp": 1556726270930,
     "user": {
      "displayName": "Никита Тодосиев",
      "photoUrl": "",
      "userId": "15188032349092888776"
     },
     "user_tz": -180
    },
    "id": "j2TG_bR4EUfg",
    "outputId": "ccdd0e8e-c1fb-4911-d2ba-dbf4b12cef7b"
   },
   "outputs": [
    {
     "data": {
      "text/plain": [
       "[<matplotlib.lines.Line2D at 0x7f108763d278>]"
      ]
     },
     "execution_count": 38,
     "metadata": {
      "tags": []
     },
     "output_type": "execute_result"
    },
    {
     "data": {
      "image/png": "[encoded data removed]",
      "text/plain": [
       "<Figure size 432x288 with 1 Axes>"
      ]
     },
     "metadata": {
      "tags": []
     },
     "output_type": "display_data"
    }
   ],
   "source": [
    "plt.plot(n_range, cl_tree_gs.cv_results_['mean_test_score'])"
   ]
  },
  {
   "cell_type": "markdown",
   "metadata": {
    "colab_type": "text",
    "id": "xkrsDVRfwyLe"
   },
   "source": [
    "## Сравнение модели с произвольным и лучшим параметром K"
   ]
  },
  {
   "cell_type": "code",
   "execution_count": 39,
   "metadata": {
    "colab": {
     "base_uri": "https://localhost:8080/",
     "height": 36
    },
    "colab_type": "code",
    "executionInfo": {
     "elapsed": 2219,
     "status": "ok",
     "timestamp": 1556726470343,
     "user": {
      "displayName": "Никита Тодосиев",
      "photoUrl": "",
      "userId": "15188032349092888776"
     },
     "user_tz": -180
    },
    "id": "-BZpSiSDw_xV",
    "outputId": "dec74f28-88f0-4507-fb55-12345416d91b"
   },
   "outputs": [
    {
     "name": "stdout",
     "output_type": "stream",
     "text": [
      "Значение на тренируемой выборке: 47.70% значение на тестовой выборке: 47.56%\n"
     ]
    }
   ],
   "source": [
    "linear2 = Classifier(SGDClassifier(l1_ratio=0.45), data_X_train, \n",
    "                    data_y_train, data_X_test, data_y_test)\n",
    "linear2.training()\n",
    "linear2.result(accuracy_score)"
   ]
  },
  {
   "cell_type": "code",
   "execution_count": 40,
   "metadata": {
    "colab": {
     "base_uri": "https://localhost:8080/",
     "height": 36
    },
    "colab_type": "code",
    "executionInfo": {
     "elapsed": 3281,
     "status": "ok",
     "timestamp": 1556726476271,
     "user": {
      "displayName": "Никита Тодосиев",
      "photoUrl": "",
      "userId": "15188032349092888776"
     },
     "user_tz": -180
    },
    "id": "kq11BlDWH55h",
    "outputId": "48f4bbe3-63f2-43b2-b90a-a7154504f16b"
   },
   "outputs": [
    {
     "name": "stdout",
     "output_type": "stream",
     "text": [
      "Значение на тренируемой выборке: 51.19% значение на тестовой выборке: 51.15%\n"
     ]
    }
   ],
   "source": [
    "linear.result(accuracy_score)"
   ]
  },
  {
   "cell_type": "code",
   "execution_count": 41,
   "metadata": {
    "colab": {
     "base_uri": "https://localhost:8080/",
     "height": 93
    },
    "colab_type": "code",
    "executionInfo": {
     "elapsed": 149199,
     "status": "ok",
     "timestamp": 1556726627048,
     "user": {
      "displayName": "Никита Тодосиев",
      "photoUrl": "",
      "userId": "15188032349092888776"
     },
     "user_tz": -180
    },
    "id": "Q9rVmPaXyABY",
    "outputId": "ccc45d4b-15d5-45ac-b83d-5af64e1c9d92"
   },
   "outputs": [
    {
     "name": "stdout",
     "output_type": "stream",
     "text": [
      "Значение на тренируемой выборке: 43.80% значение на тестовой выборке: 44.13%\n"
     ]
    },
    {
     "name": "stderr",
     "output_type": "stream",
     "text": [
      "/usr/local/lib/python3.6/dist-packages/sklearn/svm/base.py:931: ConvergenceWarning: Liblinear failed to converge, increase the number of iterations.\n",
      "  \"the number of iterations.\", ConvergenceWarning)\n"
     ]
    }
   ],
   "source": [
    "svm2 = Classifier(LinearSVC(C=3.0), data_X_train, \n",
    "                    data_y_train, data_X_test, data_y_test)\n",
    "svm2.training()\n",
    "svm2.result(accuracy_score)"
   ]
  },
  {
   "cell_type": "code",
   "execution_count": 42,
   "metadata": {
    "colab": {
     "base_uri": "https://localhost:8080/",
     "height": 36
    },
    "colab_type": "code",
    "executionInfo": {
     "elapsed": 148105,
     "status": "ok",
     "timestamp": 1556726627058,
     "user": {
      "displayName": "Никита Тодосиев",
      "photoUrl": "",
      "userId": "15188032349092888776"
     },
     "user_tz": -180
    },
    "id": "WF3YPsrnII9r",
    "outputId": "d0016f7c-ea55-4ee7-df67-e9201ffa2cb3"
   },
   "outputs": [
    {
     "name": "stdout",
     "output_type": "stream",
     "text": [
      "Значение на тренируемой выборке: 53.30% значение на тестовой выборке: 53.37%\n"
     ]
    }
   ],
   "source": [
    "svm.result(accuracy_score)"
   ]
  },
  {
   "cell_type": "code",
   "execution_count": 43,
   "metadata": {
    "colab": {
     "base_uri": "https://localhost:8080/",
     "height": 36
    },
    "colab_type": "code",
    "executionInfo": {
     "elapsed": 148558,
     "status": "ok",
     "timestamp": 1556726628256,
     "user": {
      "displayName": "Никита Тодосиев",
      "photoUrl": "",
      "userId": "15188032349092888776"
     },
     "user_tz": -180
    },
    "id": "nIy0oFQGxfxV",
    "outputId": "527adde8-4b2e-4afc-8379-22b467000a7b"
   },
   "outputs": [
    {
     "name": "stdout",
     "output_type": "stream",
     "text": [
      "Значение на тренируемой выборке: 91.15% значение на тестовой выборке: 88.82%\n"
     ]
    }
   ],
   "source": [
    "tree2 = Classifier(DecisionTreeClassifier(random_state=1, max_depth=12), data_X_train, \n",
    "                    data_y_train, data_X_test, data_y_test)\n",
    "tree2.training()\n",
    "tree2.result(accuracy_score)"
   ]
  },
  {
   "cell_type": "code",
   "execution_count": 44,
   "metadata": {
    "colab": {
     "base_uri": "https://localhost:8080/",
     "height": 36
    },
    "colab_type": "code",
    "executionInfo": {
     "elapsed": 147738,
     "status": "ok",
     "timestamp": 1556726628266,
     "user": {
      "displayName": "Никита Тодосиев",
      "photoUrl": "",
      "userId": "15188032349092888776"
     },
     "user_tz": -180
    },
    "id": "zKAm8IymILGF",
    "outputId": "2ebd4c90-6afc-4c78-b81c-9801fd239543"
   },
   "outputs": [
    {
     "name": "stdout",
     "output_type": "stream",
     "text": [
      "Значение на тренируемой выборке: 99.00% значение на тестовой выборке: 86.69%\n"
     ]
    }
   ],
   "source": [
    "tree.result(accuracy_score)"
   ]
  },
  {
   "cell_type": "markdown",
   "metadata": {
    "colab_type": "text",
    "id": "sWsztEaPJDcz"
   },
   "source": [
    "Качество улучшилось только у дерева решений. Это связано с тем, что SGD может попадать в локальные минимумы, из которых не вышло выбраться, а LinearSVC плохо работает на многомерной выборке\n"
   ]
  }
 ],
 "metadata": {
  "accelerator": "GPU",
  "colab": {
   "collapsed_sections": [],
   "name": "mlcourse_lab5.ipynb",
   "provenance": [
    {
     "file_id": "19DfKXDFM246pj3rpA_uKYueqiRc6aEdP",
     "timestamp": 1555507802542
    },
    {
     "file_id": "1x-ap_JCL--ObWX_dpCIPZ-sVND1fFBow",
     "timestamp": 1554900821786
    }
   ],
   "toc_visible": true,
   "version": "0.3.2"
  },
  "kernelspec": {
   "display_name": "Python 3",
   "language": "python",
   "name": "python3"
  },
  "lab_number": 5,
  "language_info": {
   "codemirror_mode": {
    "name": "ipython",
    "version": 3
   },
   "file_extension": ".py",
   "mimetype": "text/x-python",
   "name": "python",
   "nbconvert_exporter": "python",
   "pygments_lexer": "ipython3",
   "version": "3.7.3"
  },
  "title": "Линейные модели, SVM и деревья решений"
 },
 "nbformat": 4,
 "nbformat_minor": 1
}
